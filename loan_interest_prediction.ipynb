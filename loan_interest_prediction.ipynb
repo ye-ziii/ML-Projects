{
  "cells": [
    {
      "cell_type": "markdown",
      "source": [
        "## Loan Interest Rate Prediction Project\n",
        "\n",
        "### Project Summary\n",
        "This project aims to analyze the various borrower information and build machine learning models to predict the interest rate assigned to the loan.\n",
        "\n",
        "### Data\n",
        "This borrower information dataset has 32 variables and 399999 observations.\n",
        "\n",
        "### Project Sections\n",
        "1. EDA & Feature Engineering\n",
        "\n",
        "2. Model Building & Selection\n",
        "  - Ridge\n",
        "  - KNN\n",
        "  - Gradient Boosting\n",
        "\n",
        "3. Model Evaluation\n",
        "\n",
        "4. Prediction\n",
        "\n",
        "### Author & Platform\n",
        "Yezi Liu conducted this project independently in Visual Studio Code."
      ],
      "metadata": {
        "id": "_PTB9l6caP5B"
      }
    },
    {
      "cell_type": "markdown",
      "source": [
        "## Connect GPU"
      ],
      "metadata": {
        "id": "NBmsnnoObF-x"
      }
    },
    {
      "cell_type": "code",
      "source": [
        "gpu_info = !nvidia-smi\n",
        "gpu_info = '\\n'.join(gpu_info)\n",
        "if gpu_info.find('failed') >= 0:\n",
        "  print('Not connected to a GPU')\n",
        "else:\n",
        "  print(gpu_info)"
      ],
      "metadata": {
        "colab": {
          "base_uri": "https://localhost:8080/"
        },
        "id": "boL_9MsPHO2U",
        "outputId": "01369782-a81b-4977-a142-b1c67556e062"
      },
      "execution_count": null,
      "outputs": [
        {
          "output_type": "stream",
          "name": "stdout",
          "text": [
            "Thu Feb 15 03:13:59 2024       \n",
            "+---------------------------------------------------------------------------------------+\n",
            "| NVIDIA-SMI 535.104.05             Driver Version: 535.104.05   CUDA Version: 12.2     |\n",
            "|-----------------------------------------+----------------------+----------------------+\n",
            "| GPU  Name                 Persistence-M | Bus-Id        Disp.A | Volatile Uncorr. ECC |\n",
            "| Fan  Temp   Perf          Pwr:Usage/Cap |         Memory-Usage | GPU-Util  Compute M. |\n",
            "|                                         |                      |               MIG M. |\n",
            "|=========================================+======================+======================|\n",
            "|   0  Tesla V100-SXM2-16GB           Off | 00000000:00:04.0 Off |                    0 |\n",
            "| N/A   32C    P0              23W / 300W |      0MiB / 16384MiB |      0%      Default |\n",
            "|                                         |                      |                  N/A |\n",
            "+-----------------------------------------+----------------------+----------------------+\n",
            "                                                                                         \n",
            "+---------------------------------------------------------------------------------------+\n",
            "| Processes:                                                                            |\n",
            "|  GPU   GI   CI        PID   Type   Process name                            GPU Memory |\n",
            "|        ID   ID                                                             Usage      |\n",
            "|=======================================================================================|\n",
            "|  No running processes found                                                           |\n",
            "+---------------------------------------------------------------------------------------+\n"
          ]
        }
      ]
    },
    {
      "cell_type": "markdown",
      "source": [
        "## Load Packages"
      ],
      "metadata": {
        "id": "CJJG4dmEbRHj"
      }
    },
    {
      "cell_type": "code",
      "execution_count": null,
      "metadata": {
        "id": "5gu4iOYsF0XK"
      },
      "outputs": [],
      "source": [
        "%matplotlib inline\n",
        "import numpy as np\n",
        "import pandas as pd\n",
        "from scipy import stats\n",
        "import matplotlib.pyplot as plt\n",
        "import seaborn as sns\n",
        "from sklearn.model_selection import train_test_split\n",
        "from sklearn.linear_model import LogisticRegression\n",
        "from sklearn.svm import SVC, LinearSVC\n",
        "from sklearn.neighbors import KNeighborsClassifier\n",
        "from sklearn.tree import DecisionTreeClassifier\n",
        "from sklearn.ensemble import RandomForestClassifier\n",
        "from sklearn.naive_bayes import GaussianNB\n",
        "from sklearn.linear_model import Perceptron\n",
        "from sklearn.linear_model import SGDClassifier\n",
        "from sklearn.ensemble import GradientBoostingClassifier\n",
        "from sklearn.model_selection import GridSearchCV\n",
        "from sklearn.metrics import accuracy_score, f1_score, confusion_matrix\n",
        "from sklearn.preprocessing import StandardScaler\n",
        "from sklearn.pipeline import make_pipeline\n",
        "from datetime import datetime\n",
        "from sklearn.ensemble import RandomForestRegressor\n",
        "from sklearn.preprocessing import StandardScaler, OneHotEncoder\n",
        "from sklearn.compose import ColumnTransformer\n",
        "from sklearn.decomposition import PCA\n",
        "from sklearn.pipeline import Pipeline\n",
        "from sklearn.linear_model import Ridge\n",
        "from sklearn.neighbors import KNeighborsRegressor\n",
        "from sklearn.ensemble import GradientBoostingRegressor\n",
        "from sklearn.metrics import mean_squared_error"
      ]
    },
    {
      "cell_type": "markdown",
      "source": [
        "## Set Up Environmental Variables"
      ],
      "metadata": {
        "id": "khnzezRzbUzu"
      }
    },
    {
      "cell_type": "code",
      "source": [
        "DATA_PATH = 'Data for Cleaning _ Modeling.csv'"
      ],
      "metadata": {
        "id": "KOzNPH1Bamkd"
      },
      "execution_count": null,
      "outputs": []
    },
    {
      "cell_type": "markdown",
      "source": [
        "## Data Import"
      ],
      "metadata": {
        "id": "oIjBiNVabhHr"
      }
    },
    {
      "cell_type": "code",
      "execution_count": null,
      "metadata": {
        "colab": {
          "base_uri": "https://localhost:8080/",
          "height": 358
        },
        "id": "Y_GC27pOF0XR",
        "outputId": "c07e3f31-aea7-43a8-f62c-46087cb5f0d7"
      },
      "outputs": [
        {
          "output_type": "stream",
          "name": "stderr",
          "text": [
            "<ipython-input-9-80c6175270f5>:1: DtypeWarning: Columns (15) have mixed types. Specify dtype option on import or set low_memory=False.\n",
            "  df = pd.read_csv('Data for Cleaning _ Modeling.csv')\n"
          ]
        },
        {
          "output_type": "execute_result",
          "data": {
            "text/plain": [
              "       X1       X2        X3       X4       X5       X6          X7 X8  X9  \\\n",
              "0  11.89%  54734.0   80364.0  $25,000  $25,000  $19,080   36 months  B  B4   \n",
              "1  10.71%  55742.0  114426.0   $7,000   $7,000     $673   36 months  B  B5   \n",
              "2  16.99%  57167.0  137225.0  $25,000  $25,000  $24,725   36 months  D  D3   \n",
              "3  13.11%  57245.0  138150.0   $1,200   $1,200   $1,200   36 months  C  C2   \n",
              "4  13.57%  57416.0  139635.0  $10,800  $10,800  $10,692   36 months  C  C3   \n",
              "\n",
              "                      X10  ...     X23  X24   X25 X26   X27  X28      X29  \\\n",
              "0                     NaN  ...  Feb-94  0.0   NaN NaN  10.0  0.0  28854.0   \n",
              "1                     CNN  ...  Oct-00  0.0   NaN NaN   7.0  0.0  33623.0   \n",
              "2          Web Programmer  ...  Jun-00  0.0  41.0 NaN  10.0  0.0  19878.0   \n",
              "3  city of beaumont texas  ...  Jan-85  0.0  64.0 NaN   5.0  0.0   2584.0   \n",
              "4    State Farm Insurance  ...  Dec-96  1.0  58.0 NaN  14.0  0.0   3511.0   \n",
              "\n",
              "      X30   X31 X32  \n",
              "0  52.10%  42.0   f  \n",
              "1  76.70%   7.0   f  \n",
              "2  66.30%  17.0   f  \n",
              "3  40.40%  31.0   f  \n",
              "4  25.60%  40.0   f  \n",
              "\n",
              "[5 rows x 32 columns]"
            ],
            "text/html": [
              "\n",
              "  <div id=\"df-6ec172f4-ab31-40cc-a69d-32477aef3cd3\" class=\"colab-df-container\">\n",
              "    <div>\n",
              "<style scoped>\n",
              "    .dataframe tbody tr th:only-of-type {\n",
              "        vertical-align: middle;\n",
              "    }\n",
              "\n",
              "    .dataframe tbody tr th {\n",
              "        vertical-align: top;\n",
              "    }\n",
              "\n",
              "    .dataframe thead th {\n",
              "        text-align: right;\n",
              "    }\n",
              "</style>\n",
              "<table border=\"1\" class=\"dataframe\">\n",
              "  <thead>\n",
              "    <tr style=\"text-align: right;\">\n",
              "      <th></th>\n",
              "      <th>X1</th>\n",
              "      <th>X2</th>\n",
              "      <th>X3</th>\n",
              "      <th>X4</th>\n",
              "      <th>X5</th>\n",
              "      <th>X6</th>\n",
              "      <th>X7</th>\n",
              "      <th>X8</th>\n",
              "      <th>X9</th>\n",
              "      <th>X10</th>\n",
              "      <th>...</th>\n",
              "      <th>X23</th>\n",
              "      <th>X24</th>\n",
              "      <th>X25</th>\n",
              "      <th>X26</th>\n",
              "      <th>X27</th>\n",
              "      <th>X28</th>\n",
              "      <th>X29</th>\n",
              "      <th>X30</th>\n",
              "      <th>X31</th>\n",
              "      <th>X32</th>\n",
              "    </tr>\n",
              "  </thead>\n",
              "  <tbody>\n",
              "    <tr>\n",
              "      <th>0</th>\n",
              "      <td>11.89%</td>\n",
              "      <td>54734.0</td>\n",
              "      <td>80364.0</td>\n",
              "      <td>$25,000</td>\n",
              "      <td>$25,000</td>\n",
              "      <td>$19,080</td>\n",
              "      <td>36 months</td>\n",
              "      <td>B</td>\n",
              "      <td>B4</td>\n",
              "      <td>NaN</td>\n",
              "      <td>...</td>\n",
              "      <td>Feb-94</td>\n",
              "      <td>0.0</td>\n",
              "      <td>NaN</td>\n",
              "      <td>NaN</td>\n",
              "      <td>10.0</td>\n",
              "      <td>0.0</td>\n",
              "      <td>28854.0</td>\n",
              "      <td>52.10%</td>\n",
              "      <td>42.0</td>\n",
              "      <td>f</td>\n",
              "    </tr>\n",
              "    <tr>\n",
              "      <th>1</th>\n",
              "      <td>10.71%</td>\n",
              "      <td>55742.0</td>\n",
              "      <td>114426.0</td>\n",
              "      <td>$7,000</td>\n",
              "      <td>$7,000</td>\n",
              "      <td>$673</td>\n",
              "      <td>36 months</td>\n",
              "      <td>B</td>\n",
              "      <td>B5</td>\n",
              "      <td>CNN</td>\n",
              "      <td>...</td>\n",
              "      <td>Oct-00</td>\n",
              "      <td>0.0</td>\n",
              "      <td>NaN</td>\n",
              "      <td>NaN</td>\n",
              "      <td>7.0</td>\n",
              "      <td>0.0</td>\n",
              "      <td>33623.0</td>\n",
              "      <td>76.70%</td>\n",
              "      <td>7.0</td>\n",
              "      <td>f</td>\n",
              "    </tr>\n",
              "    <tr>\n",
              "      <th>2</th>\n",
              "      <td>16.99%</td>\n",
              "      <td>57167.0</td>\n",
              "      <td>137225.0</td>\n",
              "      <td>$25,000</td>\n",
              "      <td>$25,000</td>\n",
              "      <td>$24,725</td>\n",
              "      <td>36 months</td>\n",
              "      <td>D</td>\n",
              "      <td>D3</td>\n",
              "      <td>Web Programmer</td>\n",
              "      <td>...</td>\n",
              "      <td>Jun-00</td>\n",
              "      <td>0.0</td>\n",
              "      <td>41.0</td>\n",
              "      <td>NaN</td>\n",
              "      <td>10.0</td>\n",
              "      <td>0.0</td>\n",
              "      <td>19878.0</td>\n",
              "      <td>66.30%</td>\n",
              "      <td>17.0</td>\n",
              "      <td>f</td>\n",
              "    </tr>\n",
              "    <tr>\n",
              "      <th>3</th>\n",
              "      <td>13.11%</td>\n",
              "      <td>57245.0</td>\n",
              "      <td>138150.0</td>\n",
              "      <td>$1,200</td>\n",
              "      <td>$1,200</td>\n",
              "      <td>$1,200</td>\n",
              "      <td>36 months</td>\n",
              "      <td>C</td>\n",
              "      <td>C2</td>\n",
              "      <td>city of beaumont texas</td>\n",
              "      <td>...</td>\n",
              "      <td>Jan-85</td>\n",
              "      <td>0.0</td>\n",
              "      <td>64.0</td>\n",
              "      <td>NaN</td>\n",
              "      <td>5.0</td>\n",
              "      <td>0.0</td>\n",
              "      <td>2584.0</td>\n",
              "      <td>40.40%</td>\n",
              "      <td>31.0</td>\n",
              "      <td>f</td>\n",
              "    </tr>\n",
              "    <tr>\n",
              "      <th>4</th>\n",
              "      <td>13.57%</td>\n",
              "      <td>57416.0</td>\n",
              "      <td>139635.0</td>\n",
              "      <td>$10,800</td>\n",
              "      <td>$10,800</td>\n",
              "      <td>$10,692</td>\n",
              "      <td>36 months</td>\n",
              "      <td>C</td>\n",
              "      <td>C3</td>\n",
              "      <td>State Farm Insurance</td>\n",
              "      <td>...</td>\n",
              "      <td>Dec-96</td>\n",
              "      <td>1.0</td>\n",
              "      <td>58.0</td>\n",
              "      <td>NaN</td>\n",
              "      <td>14.0</td>\n",
              "      <td>0.0</td>\n",
              "      <td>3511.0</td>\n",
              "      <td>25.60%</td>\n",
              "      <td>40.0</td>\n",
              "      <td>f</td>\n",
              "    </tr>\n",
              "  </tbody>\n",
              "</table>\n",
              "<p>5 rows × 32 columns</p>\n",
              "</div>\n",
              "    <div class=\"colab-df-buttons\">\n",
              "\n",
              "  <div class=\"colab-df-container\">\n",
              "    <button class=\"colab-df-convert\" onclick=\"convertToInteractive('df-6ec172f4-ab31-40cc-a69d-32477aef3cd3')\"\n",
              "            title=\"Convert this dataframe to an interactive table.\"\n",
              "            style=\"display:none;\">\n",
              "\n",
              "  <svg xmlns=\"http://www.w3.org/2000/svg\" height=\"24px\" viewBox=\"0 -960 960 960\">\n",
              "    <path d=\"M120-120v-720h720v720H120Zm60-500h600v-160H180v160Zm220 220h160v-160H400v160Zm0 220h160v-160H400v160ZM180-400h160v-160H180v160Zm440 0h160v-160H620v160ZM180-180h160v-160H180v160Zm440 0h160v-160H620v160Z\"/>\n",
              "  </svg>\n",
              "    </button>\n",
              "\n",
              "  <style>\n",
              "    .colab-df-container {\n",
              "      display:flex;\n",
              "      gap: 12px;\n",
              "    }\n",
              "\n",
              "    .colab-df-convert {\n",
              "      background-color: #E8F0FE;\n",
              "      border: none;\n",
              "      border-radius: 50%;\n",
              "      cursor: pointer;\n",
              "      display: none;\n",
              "      fill: #1967D2;\n",
              "      height: 32px;\n",
              "      padding: 0 0 0 0;\n",
              "      width: 32px;\n",
              "    }\n",
              "\n",
              "    .colab-df-convert:hover {\n",
              "      background-color: #E2EBFA;\n",
              "      box-shadow: 0px 1px 2px rgba(60, 64, 67, 0.3), 0px 1px 3px 1px rgba(60, 64, 67, 0.15);\n",
              "      fill: #174EA6;\n",
              "    }\n",
              "\n",
              "    .colab-df-buttons div {\n",
              "      margin-bottom: 4px;\n",
              "    }\n",
              "\n",
              "    [theme=dark] .colab-df-convert {\n",
              "      background-color: #3B4455;\n",
              "      fill: #D2E3FC;\n",
              "    }\n",
              "\n",
              "    [theme=dark] .colab-df-convert:hover {\n",
              "      background-color: #434B5C;\n",
              "      box-shadow: 0px 1px 3px 1px rgba(0, 0, 0, 0.15);\n",
              "      filter: drop-shadow(0px 1px 2px rgba(0, 0, 0, 0.3));\n",
              "      fill: #FFFFFF;\n",
              "    }\n",
              "  </style>\n",
              "\n",
              "    <script>\n",
              "      const buttonEl =\n",
              "        document.querySelector('#df-6ec172f4-ab31-40cc-a69d-32477aef3cd3 button.colab-df-convert');\n",
              "      buttonEl.style.display =\n",
              "        google.colab.kernel.accessAllowed ? 'block' : 'none';\n",
              "\n",
              "      async function convertToInteractive(key) {\n",
              "        const element = document.querySelector('#df-6ec172f4-ab31-40cc-a69d-32477aef3cd3');\n",
              "        const dataTable =\n",
              "          await google.colab.kernel.invokeFunction('convertToInteractive',\n",
              "                                                    [key], {});\n",
              "        if (!dataTable) return;\n",
              "\n",
              "        const docLinkHtml = 'Like what you see? Visit the ' +\n",
              "          '<a target=\"_blank\" href=https://colab.research.google.com/notebooks/data_table.ipynb>data table notebook</a>'\n",
              "          + ' to learn more about interactive tables.';\n",
              "        element.innerHTML = '';\n",
              "        dataTable['output_type'] = 'display_data';\n",
              "        await google.colab.output.renderOutput(dataTable, element);\n",
              "        const docLink = document.createElement('div');\n",
              "        docLink.innerHTML = docLinkHtml;\n",
              "        element.appendChild(docLink);\n",
              "      }\n",
              "    </script>\n",
              "  </div>\n",
              "\n",
              "\n",
              "<div id=\"df-9b199ce1-cbb8-4957-9c39-2cff2ed60f87\">\n",
              "  <button class=\"colab-df-quickchart\" onclick=\"quickchart('df-9b199ce1-cbb8-4957-9c39-2cff2ed60f87')\"\n",
              "            title=\"Suggest charts\"\n",
              "            style=\"display:none;\">\n",
              "\n",
              "<svg xmlns=\"http://www.w3.org/2000/svg\" height=\"24px\"viewBox=\"0 0 24 24\"\n",
              "     width=\"24px\">\n",
              "    <g>\n",
              "        <path d=\"M19 3H5c-1.1 0-2 .9-2 2v14c0 1.1.9 2 2 2h14c1.1 0 2-.9 2-2V5c0-1.1-.9-2-2-2zM9 17H7v-7h2v7zm4 0h-2V7h2v10zm4 0h-2v-4h2v4z\"/>\n",
              "    </g>\n",
              "</svg>\n",
              "  </button>\n",
              "\n",
              "<style>\n",
              "  .colab-df-quickchart {\n",
              "      --bg-color: #E8F0FE;\n",
              "      --fill-color: #1967D2;\n",
              "      --hover-bg-color: #E2EBFA;\n",
              "      --hover-fill-color: #174EA6;\n",
              "      --disabled-fill-color: #AAA;\n",
              "      --disabled-bg-color: #DDD;\n",
              "  }\n",
              "\n",
              "  [theme=dark] .colab-df-quickchart {\n",
              "      --bg-color: #3B4455;\n",
              "      --fill-color: #D2E3FC;\n",
              "      --hover-bg-color: #434B5C;\n",
              "      --hover-fill-color: #FFFFFF;\n",
              "      --disabled-bg-color: #3B4455;\n",
              "      --disabled-fill-color: #666;\n",
              "  }\n",
              "\n",
              "  .colab-df-quickchart {\n",
              "    background-color: var(--bg-color);\n",
              "    border: none;\n",
              "    border-radius: 50%;\n",
              "    cursor: pointer;\n",
              "    display: none;\n",
              "    fill: var(--fill-color);\n",
              "    height: 32px;\n",
              "    padding: 0;\n",
              "    width: 32px;\n",
              "  }\n",
              "\n",
              "  .colab-df-quickchart:hover {\n",
              "    background-color: var(--hover-bg-color);\n",
              "    box-shadow: 0 1px 2px rgba(60, 64, 67, 0.3), 0 1px 3px 1px rgba(60, 64, 67, 0.15);\n",
              "    fill: var(--button-hover-fill-color);\n",
              "  }\n",
              "\n",
              "  .colab-df-quickchart-complete:disabled,\n",
              "  .colab-df-quickchart-complete:disabled:hover {\n",
              "    background-color: var(--disabled-bg-color);\n",
              "    fill: var(--disabled-fill-color);\n",
              "    box-shadow: none;\n",
              "  }\n",
              "\n",
              "  .colab-df-spinner {\n",
              "    border: 2px solid var(--fill-color);\n",
              "    border-color: transparent;\n",
              "    border-bottom-color: var(--fill-color);\n",
              "    animation:\n",
              "      spin 1s steps(1) infinite;\n",
              "  }\n",
              "\n",
              "  @keyframes spin {\n",
              "    0% {\n",
              "      border-color: transparent;\n",
              "      border-bottom-color: var(--fill-color);\n",
              "      border-left-color: var(--fill-color);\n",
              "    }\n",
              "    20% {\n",
              "      border-color: transparent;\n",
              "      border-left-color: var(--fill-color);\n",
              "      border-top-color: var(--fill-color);\n",
              "    }\n",
              "    30% {\n",
              "      border-color: transparent;\n",
              "      border-left-color: var(--fill-color);\n",
              "      border-top-color: var(--fill-color);\n",
              "      border-right-color: var(--fill-color);\n",
              "    }\n",
              "    40% {\n",
              "      border-color: transparent;\n",
              "      border-right-color: var(--fill-color);\n",
              "      border-top-color: var(--fill-color);\n",
              "    }\n",
              "    60% {\n",
              "      border-color: transparent;\n",
              "      border-right-color: var(--fill-color);\n",
              "    }\n",
              "    80% {\n",
              "      border-color: transparent;\n",
              "      border-right-color: var(--fill-color);\n",
              "      border-bottom-color: var(--fill-color);\n",
              "    }\n",
              "    90% {\n",
              "      border-color: transparent;\n",
              "      border-bottom-color: var(--fill-color);\n",
              "    }\n",
              "  }\n",
              "</style>\n",
              "\n",
              "  <script>\n",
              "    async function quickchart(key) {\n",
              "      const quickchartButtonEl =\n",
              "        document.querySelector('#' + key + ' button');\n",
              "      quickchartButtonEl.disabled = true;  // To prevent multiple clicks.\n",
              "      quickchartButtonEl.classList.add('colab-df-spinner');\n",
              "      try {\n",
              "        const charts = await google.colab.kernel.invokeFunction(\n",
              "            'suggestCharts', [key], {});\n",
              "      } catch (error) {\n",
              "        console.error('Error during call to suggestCharts:', error);\n",
              "      }\n",
              "      quickchartButtonEl.classList.remove('colab-df-spinner');\n",
              "      quickchartButtonEl.classList.add('colab-df-quickchart-complete');\n",
              "    }\n",
              "    (() => {\n",
              "      let quickchartButtonEl =\n",
              "        document.querySelector('#df-9b199ce1-cbb8-4957-9c39-2cff2ed60f87 button');\n",
              "      quickchartButtonEl.style.display =\n",
              "        google.colab.kernel.accessAllowed ? 'block' : 'none';\n",
              "    })();\n",
              "  </script>\n",
              "</div>\n",
              "\n",
              "    </div>\n",
              "  </div>\n"
            ],
            "application/vnd.google.colaboratory.intrinsic+json": {
              "type": "dataframe",
              "variable_name": "df"
            }
          },
          "metadata": {},
          "execution_count": 9
        }
      ],
      "source": [
        "df = pd.read_csv(DATA_PATH)\n",
        "df.head()"
      ]
    },
    {
      "cell_type": "markdown",
      "source": [
        "### **Data Dictionary**\n",
        "\n",
        "X1: Interest Rate on the loan\n",
        "\n",
        "X2: A unique id for the loan\n",
        "\n",
        "X3: A unique id assigned for the borrower\n",
        "\n",
        "X4: Loan amount requested\n",
        "\n",
        "X5: Loan amount funded\n",
        "\n",
        "X6: Investor-funded portion of loan\n",
        "\n",
        "X7: Number of payments (36 or 60)\n",
        "\n",
        "X8: Loan grade\n",
        "\n",
        "X9: Loan subgrade\n",
        "\n",
        "X10: Employer or job title (self-filled)\n",
        "\n",
        "X11: Number of years employed (0 to 10; 10 = 10 or more)\n",
        "\n",
        "X12: Home ownership status: RENT, OWN, MORTGAGE, OTHER.\n",
        "\n",
        "X13: Annual income of borrower\n",
        "\n",
        "X14: Income verified, not verified, or income source was verified\n",
        "\n",
        "X15: Date loan was issued\n",
        "\n",
        "X16: Reason for loan provided by borrower\n",
        "\n",
        "X17: Loan category, as provided by borrower\n",
        "\n",
        "X18: Loan title, as provided by borrower\n",
        "\n",
        "X19: First 3 numbers of zip code\n",
        "\n",
        "X20: State of borrower\n",
        "\n",
        "X21: A ratio calculated using the borrower's total monthly debt payments on the total debt obligations, excluding mortgage and the requested loan, divided by the borrower's self-reported monthly income\n",
        "\n",
        "X22: The number of 30+ days past-due incidences of delinquency in the borrower's credit file for the past 2 years\n",
        "\n",
        "X23: Date the borrower's earliest reported credit line was opened\n",
        "\n",
        "X24: Number of inquiries by creditors during the past 6 months\n",
        "\n",
        "X25: Number of months since the borrower's last delinquency\n",
        "\n",
        "X26: Number of months since the last public record\n",
        "\n",
        "X27: Number of open credit lines in the borrower's credit file\n",
        "\n",
        "X28: Number of derogatory public records\n",
        "\n",
        "X29: Total credit revolving balance\n",
        "\n",
        "X30: Revolving line utilization rate, or the amount of credit the borrower is using relative to all available revolving credit\n",
        "\n",
        "X31: The total number of credit lines currently in the borrower's credit file\n",
        "\n",
        "X32: The initial listing status of the loan. Possible values are W and F"
      ],
      "metadata": {
        "id": "TDB3vBIScWAJ"
      }
    },
    {
      "cell_type": "markdown",
      "source": [
        "## EDA & Feature Engineering"
      ],
      "metadata": {
        "id": "30CYeDqepfZY"
      }
    },
    {
      "cell_type": "code",
      "source": [
        "# Function used for this section\n",
        "def map_years_employed_to_category(years):\n",
        "    \"\"\"\n",
        "    This function groups the values in the column into three general categories\n",
        "    while dealing with possible null values as well.\n",
        "    \"\"\"\n",
        "    if years in ['< 1 year', '1 year', '2 years', '3 years', '4 years', '5 years']:\n",
        "        return '5 years or less'\n",
        "    elif years in ['6 years', '7 years', '8 years', '9 years']:\n",
        "        return '5 years to 10 years'\n",
        "    elif years == '10+ years':\n",
        "        return '10+ years'\n",
        "    else:\n",
        "        return 'Unknown'"
      ],
      "metadata": {
        "id": "4A-64oj-5yNw"
      },
      "execution_count": null,
      "outputs": []
    },
    {
      "cell_type": "code",
      "execution_count": null,
      "metadata": {
        "colab": {
          "base_uri": "https://localhost:8080/"
        },
        "id": "cIH6aE9oF0XR",
        "outputId": "88052fbb-a057-487d-c3a8-a6b5498cbdf2"
      },
      "outputs": [
        {
          "output_type": "stream",
          "name": "stdout",
          "text": [
            "<class 'pandas.core.frame.DataFrame'>\n",
            "RangeIndex: 400000 entries, 0 to 399999\n",
            "Data columns (total 32 columns):\n",
            " #   Column  Non-Null Count   Dtype  \n",
            "---  ------  --------------   -----  \n",
            " 0   X1      338990 non-null  object \n",
            " 1   X2      399999 non-null  float64\n",
            " 2   X3      399999 non-null  float64\n",
            " 3   X4      399999 non-null  object \n",
            " 4   X5      399999 non-null  object \n",
            " 5   X6      399999 non-null  object \n",
            " 6   X7      399999 non-null  object \n",
            " 7   X8      338730 non-null  object \n",
            " 8   X9      338730 non-null  object \n",
            " 9   X10     376014 non-null  object \n",
            " 10  X11     382462 non-null  object \n",
            " 11  X12     338639 non-null  object \n",
            " 12  X13     338972 non-null  float64\n",
            " 13  X14     399999 non-null  object \n",
            " 14  X15     399999 non-null  object \n",
            " 15  X16     123560 non-null  object \n",
            " 16  X17     399999 non-null  object \n",
            " 17  X18     399981 non-null  object \n",
            " 18  X19     399999 non-null  object \n",
            " 19  X20     399999 non-null  object \n",
            " 20  X21     399999 non-null  float64\n",
            " 21  X22     399999 non-null  float64\n",
            " 22  X23     399999 non-null  object \n",
            " 23  X24     399999 non-null  float64\n",
            " 24  X25     181198 non-null  float64\n",
            " 25  X26     51155 non-null   float64\n",
            " 26  X27     399999 non-null  float64\n",
            " 27  X28     399999 non-null  float64\n",
            " 28  X29     399999 non-null  float64\n",
            " 29  X30     399733 non-null  object \n",
            " 30  X31     399999 non-null  float64\n",
            " 31  X32     399999 non-null  object \n",
            "dtypes: float64(12), object(20)\n",
            "memory usage: 97.7+ MB\n"
          ]
        }
      ],
      "source": [
        "df.info()"
      ]
    },
    {
      "cell_type": "markdown",
      "source": [
        "### X16 feature engineering"
      ],
      "metadata": {
        "id": "_ygRyxNOqYjl"
      }
    },
    {
      "cell_type": "markdown",
      "metadata": {
        "id": "SkVpVHhlF0XS"
      },
      "source": [
        "For variable X16(Reason for loan provided by borrower), there are too many missing values(only 30% are non-null values out of 400000), and it's long text data, which is really challenging to create synthetic data to fullfill its null values.\n",
        "\n",
        "I decided to turn this column into a binary column named 'Provided loan reasons' where it's 1 if there are text values and 0 when it's null or blank. By doing this, I simplified this column while keeping as much information as possible."
      ]
    },
    {
      "cell_type": "code",
      "execution_count": null,
      "metadata": {
        "colab": {
          "base_uri": "https://localhost:8080/",
          "height": 374
        },
        "id": "9UzQMAGLF0XV",
        "outputId": "50271ca0-1f8a-4578-af9f-f33fb56c3d69"
      },
      "outputs": [
        {
          "output_type": "execute_result",
          "data": {
            "text/plain": [
              "       X1       X2        X3       X4       X5       X6          X7 X8  X9  \\\n",
              "0  11.89%  54734.0   80364.0  $25,000  $25,000  $19,080   36 months  B  B4   \n",
              "1  10.71%  55742.0  114426.0   $7,000   $7,000     $673   36 months  B  B5   \n",
              "2  16.99%  57167.0  137225.0  $25,000  $25,000  $24,725   36 months  D  D3   \n",
              "3  13.11%  57245.0  138150.0   $1,200   $1,200   $1,200   36 months  C  C2   \n",
              "4  13.57%  57416.0  139635.0  $10,800  $10,800  $10,692   36 months  C  C3   \n",
              "\n",
              "                      X10  ...  X24   X25  X26   X27  X28      X29     X30  \\\n",
              "0                     NaN  ...  0.0   NaN  NaN  10.0  0.0  28854.0  52.10%   \n",
              "1                     CNN  ...  0.0   NaN  NaN   7.0  0.0  33623.0  76.70%   \n",
              "2          Web Programmer  ...  0.0  41.0  NaN  10.0  0.0  19878.0  66.30%   \n",
              "3  city of beaumont texas  ...  0.0  64.0  NaN   5.0  0.0   2584.0  40.40%   \n",
              "4    State Farm Insurance  ...  1.0  58.0  NaN  14.0  0.0   3511.0  25.60%   \n",
              "\n",
              "    X31 X32  Provided loan reasons  \n",
              "0  42.0   f                      1  \n",
              "1   7.0   f                      1  \n",
              "2  17.0   f                      1  \n",
              "3  31.0   f                      1  \n",
              "4  40.0   f                      1  \n",
              "\n",
              "[5 rows x 32 columns]"
            ],
            "text/html": [
              "\n",
              "  <div id=\"df-7dbe501b-1220-44c9-a24e-ee7137fc469c\" class=\"colab-df-container\">\n",
              "    <div>\n",
              "<style scoped>\n",
              "    .dataframe tbody tr th:only-of-type {\n",
              "        vertical-align: middle;\n",
              "    }\n",
              "\n",
              "    .dataframe tbody tr th {\n",
              "        vertical-align: top;\n",
              "    }\n",
              "\n",
              "    .dataframe thead th {\n",
              "        text-align: right;\n",
              "    }\n",
              "</style>\n",
              "<table border=\"1\" class=\"dataframe\">\n",
              "  <thead>\n",
              "    <tr style=\"text-align: right;\">\n",
              "      <th></th>\n",
              "      <th>X1</th>\n",
              "      <th>X2</th>\n",
              "      <th>X3</th>\n",
              "      <th>X4</th>\n",
              "      <th>X5</th>\n",
              "      <th>X6</th>\n",
              "      <th>X7</th>\n",
              "      <th>X8</th>\n",
              "      <th>X9</th>\n",
              "      <th>X10</th>\n",
              "      <th>...</th>\n",
              "      <th>X24</th>\n",
              "      <th>X25</th>\n",
              "      <th>X26</th>\n",
              "      <th>X27</th>\n",
              "      <th>X28</th>\n",
              "      <th>X29</th>\n",
              "      <th>X30</th>\n",
              "      <th>X31</th>\n",
              "      <th>X32</th>\n",
              "      <th>Provided loan reasons</th>\n",
              "    </tr>\n",
              "  </thead>\n",
              "  <tbody>\n",
              "    <tr>\n",
              "      <th>0</th>\n",
              "      <td>11.89%</td>\n",
              "      <td>54734.0</td>\n",
              "      <td>80364.0</td>\n",
              "      <td>$25,000</td>\n",
              "      <td>$25,000</td>\n",
              "      <td>$19,080</td>\n",
              "      <td>36 months</td>\n",
              "      <td>B</td>\n",
              "      <td>B4</td>\n",
              "      <td>NaN</td>\n",
              "      <td>...</td>\n",
              "      <td>0.0</td>\n",
              "      <td>NaN</td>\n",
              "      <td>NaN</td>\n",
              "      <td>10.0</td>\n",
              "      <td>0.0</td>\n",
              "      <td>28854.0</td>\n",
              "      <td>52.10%</td>\n",
              "      <td>42.0</td>\n",
              "      <td>f</td>\n",
              "      <td>1</td>\n",
              "    </tr>\n",
              "    <tr>\n",
              "      <th>1</th>\n",
              "      <td>10.71%</td>\n",
              "      <td>55742.0</td>\n",
              "      <td>114426.0</td>\n",
              "      <td>$7,000</td>\n",
              "      <td>$7,000</td>\n",
              "      <td>$673</td>\n",
              "      <td>36 months</td>\n",
              "      <td>B</td>\n",
              "      <td>B5</td>\n",
              "      <td>CNN</td>\n",
              "      <td>...</td>\n",
              "      <td>0.0</td>\n",
              "      <td>NaN</td>\n",
              "      <td>NaN</td>\n",
              "      <td>7.0</td>\n",
              "      <td>0.0</td>\n",
              "      <td>33623.0</td>\n",
              "      <td>76.70%</td>\n",
              "      <td>7.0</td>\n",
              "      <td>f</td>\n",
              "      <td>1</td>\n",
              "    </tr>\n",
              "    <tr>\n",
              "      <th>2</th>\n",
              "      <td>16.99%</td>\n",
              "      <td>57167.0</td>\n",
              "      <td>137225.0</td>\n",
              "      <td>$25,000</td>\n",
              "      <td>$25,000</td>\n",
              "      <td>$24,725</td>\n",
              "      <td>36 months</td>\n",
              "      <td>D</td>\n",
              "      <td>D3</td>\n",
              "      <td>Web Programmer</td>\n",
              "      <td>...</td>\n",
              "      <td>0.0</td>\n",
              "      <td>41.0</td>\n",
              "      <td>NaN</td>\n",
              "      <td>10.0</td>\n",
              "      <td>0.0</td>\n",
              "      <td>19878.0</td>\n",
              "      <td>66.30%</td>\n",
              "      <td>17.0</td>\n",
              "      <td>f</td>\n",
              "      <td>1</td>\n",
              "    </tr>\n",
              "    <tr>\n",
              "      <th>3</th>\n",
              "      <td>13.11%</td>\n",
              "      <td>57245.0</td>\n",
              "      <td>138150.0</td>\n",
              "      <td>$1,200</td>\n",
              "      <td>$1,200</td>\n",
              "      <td>$1,200</td>\n",
              "      <td>36 months</td>\n",
              "      <td>C</td>\n",
              "      <td>C2</td>\n",
              "      <td>city of beaumont texas</td>\n",
              "      <td>...</td>\n",
              "      <td>0.0</td>\n",
              "      <td>64.0</td>\n",
              "      <td>NaN</td>\n",
              "      <td>5.0</td>\n",
              "      <td>0.0</td>\n",
              "      <td>2584.0</td>\n",
              "      <td>40.40%</td>\n",
              "      <td>31.0</td>\n",
              "      <td>f</td>\n",
              "      <td>1</td>\n",
              "    </tr>\n",
              "    <tr>\n",
              "      <th>4</th>\n",
              "      <td>13.57%</td>\n",
              "      <td>57416.0</td>\n",
              "      <td>139635.0</td>\n",
              "      <td>$10,800</td>\n",
              "      <td>$10,800</td>\n",
              "      <td>$10,692</td>\n",
              "      <td>36 months</td>\n",
              "      <td>C</td>\n",
              "      <td>C3</td>\n",
              "      <td>State Farm Insurance</td>\n",
              "      <td>...</td>\n",
              "      <td>1.0</td>\n",
              "      <td>58.0</td>\n",
              "      <td>NaN</td>\n",
              "      <td>14.0</td>\n",
              "      <td>0.0</td>\n",
              "      <td>3511.0</td>\n",
              "      <td>25.60%</td>\n",
              "      <td>40.0</td>\n",
              "      <td>f</td>\n",
              "      <td>1</td>\n",
              "    </tr>\n",
              "  </tbody>\n",
              "</table>\n",
              "<p>5 rows × 32 columns</p>\n",
              "</div>\n",
              "    <div class=\"colab-df-buttons\">\n",
              "\n",
              "  <div class=\"colab-df-container\">\n",
              "    <button class=\"colab-df-convert\" onclick=\"convertToInteractive('df-7dbe501b-1220-44c9-a24e-ee7137fc469c')\"\n",
              "            title=\"Convert this dataframe to an interactive table.\"\n",
              "            style=\"display:none;\">\n",
              "\n",
              "  <svg xmlns=\"http://www.w3.org/2000/svg\" height=\"24px\" viewBox=\"0 -960 960 960\">\n",
              "    <path d=\"M120-120v-720h720v720H120Zm60-500h600v-160H180v160Zm220 220h160v-160H400v160Zm0 220h160v-160H400v160ZM180-400h160v-160H180v160Zm440 0h160v-160H620v160ZM180-180h160v-160H180v160Zm440 0h160v-160H620v160Z\"/>\n",
              "  </svg>\n",
              "    </button>\n",
              "\n",
              "  <style>\n",
              "    .colab-df-container {\n",
              "      display:flex;\n",
              "      gap: 12px;\n",
              "    }\n",
              "\n",
              "    .colab-df-convert {\n",
              "      background-color: #E8F0FE;\n",
              "      border: none;\n",
              "      border-radius: 50%;\n",
              "      cursor: pointer;\n",
              "      display: none;\n",
              "      fill: #1967D2;\n",
              "      height: 32px;\n",
              "      padding: 0 0 0 0;\n",
              "      width: 32px;\n",
              "    }\n",
              "\n",
              "    .colab-df-convert:hover {\n",
              "      background-color: #E2EBFA;\n",
              "      box-shadow: 0px 1px 2px rgba(60, 64, 67, 0.3), 0px 1px 3px 1px rgba(60, 64, 67, 0.15);\n",
              "      fill: #174EA6;\n",
              "    }\n",
              "\n",
              "    .colab-df-buttons div {\n",
              "      margin-bottom: 4px;\n",
              "    }\n",
              "\n",
              "    [theme=dark] .colab-df-convert {\n",
              "      background-color: #3B4455;\n",
              "      fill: #D2E3FC;\n",
              "    }\n",
              "\n",
              "    [theme=dark] .colab-df-convert:hover {\n",
              "      background-color: #434B5C;\n",
              "      box-shadow: 0px 1px 3px 1px rgba(0, 0, 0, 0.15);\n",
              "      filter: drop-shadow(0px 1px 2px rgba(0, 0, 0, 0.3));\n",
              "      fill: #FFFFFF;\n",
              "    }\n",
              "  </style>\n",
              "\n",
              "    <script>\n",
              "      const buttonEl =\n",
              "        document.querySelector('#df-7dbe501b-1220-44c9-a24e-ee7137fc469c button.colab-df-convert');\n",
              "      buttonEl.style.display =\n",
              "        google.colab.kernel.accessAllowed ? 'block' : 'none';\n",
              "\n",
              "      async function convertToInteractive(key) {\n",
              "        const element = document.querySelector('#df-7dbe501b-1220-44c9-a24e-ee7137fc469c');\n",
              "        const dataTable =\n",
              "          await google.colab.kernel.invokeFunction('convertToInteractive',\n",
              "                                                    [key], {});\n",
              "        if (!dataTable) return;\n",
              "\n",
              "        const docLinkHtml = 'Like what you see? Visit the ' +\n",
              "          '<a target=\"_blank\" href=https://colab.research.google.com/notebooks/data_table.ipynb>data table notebook</a>'\n",
              "          + ' to learn more about interactive tables.';\n",
              "        element.innerHTML = '';\n",
              "        dataTable['output_type'] = 'display_data';\n",
              "        await google.colab.output.renderOutput(dataTable, element);\n",
              "        const docLink = document.createElement('div');\n",
              "        docLink.innerHTML = docLinkHtml;\n",
              "        element.appendChild(docLink);\n",
              "      }\n",
              "    </script>\n",
              "  </div>\n",
              "\n",
              "\n",
              "<div id=\"df-a1bbe306-9ce3-4509-9b22-6d237c209b0f\">\n",
              "  <button class=\"colab-df-quickchart\" onclick=\"quickchart('df-a1bbe306-9ce3-4509-9b22-6d237c209b0f')\"\n",
              "            title=\"Suggest charts\"\n",
              "            style=\"display:none;\">\n",
              "\n",
              "<svg xmlns=\"http://www.w3.org/2000/svg\" height=\"24px\"viewBox=\"0 0 24 24\"\n",
              "     width=\"24px\">\n",
              "    <g>\n",
              "        <path d=\"M19 3H5c-1.1 0-2 .9-2 2v14c0 1.1.9 2 2 2h14c1.1 0 2-.9 2-2V5c0-1.1-.9-2-2-2zM9 17H7v-7h2v7zm4 0h-2V7h2v10zm4 0h-2v-4h2v4z\"/>\n",
              "    </g>\n",
              "</svg>\n",
              "  </button>\n",
              "\n",
              "<style>\n",
              "  .colab-df-quickchart {\n",
              "      --bg-color: #E8F0FE;\n",
              "      --fill-color: #1967D2;\n",
              "      --hover-bg-color: #E2EBFA;\n",
              "      --hover-fill-color: #174EA6;\n",
              "      --disabled-fill-color: #AAA;\n",
              "      --disabled-bg-color: #DDD;\n",
              "  }\n",
              "\n",
              "  [theme=dark] .colab-df-quickchart {\n",
              "      --bg-color: #3B4455;\n",
              "      --fill-color: #D2E3FC;\n",
              "      --hover-bg-color: #434B5C;\n",
              "      --hover-fill-color: #FFFFFF;\n",
              "      --disabled-bg-color: #3B4455;\n",
              "      --disabled-fill-color: #666;\n",
              "  }\n",
              "\n",
              "  .colab-df-quickchart {\n",
              "    background-color: var(--bg-color);\n",
              "    border: none;\n",
              "    border-radius: 50%;\n",
              "    cursor: pointer;\n",
              "    display: none;\n",
              "    fill: var(--fill-color);\n",
              "    height: 32px;\n",
              "    padding: 0;\n",
              "    width: 32px;\n",
              "  }\n",
              "\n",
              "  .colab-df-quickchart:hover {\n",
              "    background-color: var(--hover-bg-color);\n",
              "    box-shadow: 0 1px 2px rgba(60, 64, 67, 0.3), 0 1px 3px 1px rgba(60, 64, 67, 0.15);\n",
              "    fill: var(--button-hover-fill-color);\n",
              "  }\n",
              "\n",
              "  .colab-df-quickchart-complete:disabled,\n",
              "  .colab-df-quickchart-complete:disabled:hover {\n",
              "    background-color: var(--disabled-bg-color);\n",
              "    fill: var(--disabled-fill-color);\n",
              "    box-shadow: none;\n",
              "  }\n",
              "\n",
              "  .colab-df-spinner {\n",
              "    border: 2px solid var(--fill-color);\n",
              "    border-color: transparent;\n",
              "    border-bottom-color: var(--fill-color);\n",
              "    animation:\n",
              "      spin 1s steps(1) infinite;\n",
              "  }\n",
              "\n",
              "  @keyframes spin {\n",
              "    0% {\n",
              "      border-color: transparent;\n",
              "      border-bottom-color: var(--fill-color);\n",
              "      border-left-color: var(--fill-color);\n",
              "    }\n",
              "    20% {\n",
              "      border-color: transparent;\n",
              "      border-left-color: var(--fill-color);\n",
              "      border-top-color: var(--fill-color);\n",
              "    }\n",
              "    30% {\n",
              "      border-color: transparent;\n",
              "      border-left-color: var(--fill-color);\n",
              "      border-top-color: var(--fill-color);\n",
              "      border-right-color: var(--fill-color);\n",
              "    }\n",
              "    40% {\n",
              "      border-color: transparent;\n",
              "      border-right-color: var(--fill-color);\n",
              "      border-top-color: var(--fill-color);\n",
              "    }\n",
              "    60% {\n",
              "      border-color: transparent;\n",
              "      border-right-color: var(--fill-color);\n",
              "    }\n",
              "    80% {\n",
              "      border-color: transparent;\n",
              "      border-right-color: var(--fill-color);\n",
              "      border-bottom-color: var(--fill-color);\n",
              "    }\n",
              "    90% {\n",
              "      border-color: transparent;\n",
              "      border-bottom-color: var(--fill-color);\n",
              "    }\n",
              "  }\n",
              "</style>\n",
              "\n",
              "  <script>\n",
              "    async function quickchart(key) {\n",
              "      const quickchartButtonEl =\n",
              "        document.querySelector('#' + key + ' button');\n",
              "      quickchartButtonEl.disabled = true;  // To prevent multiple clicks.\n",
              "      quickchartButtonEl.classList.add('colab-df-spinner');\n",
              "      try {\n",
              "        const charts = await google.colab.kernel.invokeFunction(\n",
              "            'suggestCharts', [key], {});\n",
              "      } catch (error) {\n",
              "        console.error('Error during call to suggestCharts:', error);\n",
              "      }\n",
              "      quickchartButtonEl.classList.remove('colab-df-spinner');\n",
              "      quickchartButtonEl.classList.add('colab-df-quickchart-complete');\n",
              "    }\n",
              "    (() => {\n",
              "      let quickchartButtonEl =\n",
              "        document.querySelector('#df-a1bbe306-9ce3-4509-9b22-6d237c209b0f button');\n",
              "      quickchartButtonEl.style.display =\n",
              "        google.colab.kernel.accessAllowed ? 'block' : 'none';\n",
              "    })();\n",
              "  </script>\n",
              "</div>\n",
              "\n",
              "    </div>\n",
              "  </div>\n"
            ],
            "application/vnd.google.colaboratory.intrinsic+json": {
              "type": "dataframe",
              "variable_name": "df"
            }
          },
          "metadata": {},
          "execution_count": 11
        }
      ],
      "source": [
        "# Replace blank strings and purely whitespace strings with NaN using regex\n",
        "df['X16'] = df['X16'].replace(r'^\\s*$', np.nan, regex=True)\n",
        "\n",
        "# Convert the 'Reason for the loan' column into a binary 'Provided loan reasons' column\n",
        "df['Provided loan reasons'] = np.where(df['X16'].isna(), 0, 1)\n",
        "df.drop('X16', axis=1, inplace=True)\n",
        "df.head()"
      ]
    },
    {
      "cell_type": "code",
      "execution_count": null,
      "metadata": {
        "colab": {
          "base_uri": "https://localhost:8080/"
        },
        "id": "rAlJDlguF0XW",
        "outputId": "7e7ba7ea-7c27-4abc-ee1e-f29a515cb0ee"
      },
      "outputs": [
        {
          "output_type": "stream",
          "name": "stdout",
          "text": [
            "0    276660\n",
            "1    123340\n",
            "Name: Provided loan reasons, dtype: int64\n"
          ]
        }
      ],
      "source": [
        "print(df['Provided loan reasons'].value_counts())"
      ]
    },
    {
      "cell_type": "markdown",
      "source": [
        "### X25 feature engineering"
      ],
      "metadata": {
        "id": "Jd-jGvt5qgmE"
      }
    },
    {
      "cell_type": "markdown",
      "metadata": {
        "id": "WVFj3H0nF0XX"
      },
      "source": [
        "The X25 column(Number of months since the borrower's last delinquency) has so many missing values(181198 non-null values out of 400000), but it's an important column to predict loan interest rate, so I didn't remove it.\n",
        "\n",
        "Instead, I reasonably converted the null values into \"No delinquency\" category(assuming null values mean that this borrower doesn't have delinquencies in the past). And I converted the numerical months into 3 ordered categories based on quantiles: 'Very recent', 'Some time ago', and 'Long time ago'. As a result, I turned this X25 column into a ordered categorical variable called 'delinquency_recency' with 4 categories."
      ]
    },
    {
      "cell_type": "code",
      "execution_count": null,
      "metadata": {
        "id": "t8w6omtaF0XY"
      },
      "outputs": [],
      "source": [
        "# Define the categories, including 'No delinquency'\n",
        "X25_categories = ['Very recent', 'Some time ago', 'Long time ago', 'No delinquency']\n",
        "\n",
        "# Use pd.qcut on the non-null values to categorize them\n",
        "# Temporarily exclude null values by using dropna=False and later fill these with 'No delinquency'\n",
        "df['delinquency_recency'] = pd.qcut(df['X25'].dropna(),\n",
        "                                     q=3,\n",
        "                                     labels=X25_categories[:-1])  # Exclude 'No delinquency' for this operation\n",
        "\n",
        "# Convert to categorical and explicitly define all categories, including 'No delinquency'\n",
        "df['delinquency_recency'] = pd.Categorical(df['delinquency_recency'], categories=X25_categories, ordered=True)\n",
        "\n",
        "# Fill NA values in the new column with 'No delinquency'\n",
        "df['delinquency_recency'].fillna('No delinquency', inplace=True)\n",
        "\n",
        "# Drop the original column\n",
        "df.drop('X25', axis=1, inplace=True)"
      ]
    },
    {
      "cell_type": "code",
      "execution_count": null,
      "metadata": {
        "colab": {
          "base_uri": "https://localhost:8080/"
        },
        "id": "DKVLpnenF0XY",
        "outputId": "b66f3207-2ca7-47cb-abdb-cc8a3a91dafb"
      },
      "outputs": [
        {
          "output_type": "stream",
          "name": "stdout",
          "text": [
            "No delinquency    218802\n",
            "Some time ago      61249\n",
            "Very recent        60689\n",
            "Long time ago      59260\n",
            "Name: delinquency_recency, dtype: int64\n"
          ]
        }
      ],
      "source": [
        "print(df['delinquency_recency'].value_counts())"
      ]
    },
    {
      "cell_type": "markdown",
      "source": [
        "### X26 feature engineering"
      ],
      "metadata": {
        "id": "F2wH5hhCrbjr"
      }
    },
    {
      "cell_type": "markdown",
      "metadata": {
        "id": "AgFH211nF0XZ"
      },
      "source": [
        "The X26 column(Number of months since the last public record) has so many missing values(51155 non-null values out of 400000), but it's an important column to predict loan interest rate, so I didn't remove it.\n",
        "\n",
        "Instead, I reasonably converted the null values into \"No public record\" category(assuming null values mean that this borrower doesn't have any public record in the past). And I converted the numerical months into 3 ordered categories based on quantiles: 'Very recent', 'Some time ago', and 'Long time ago'. As a result, I turned this X26 column into a ordered categorical variable called 'public_record_recency' with 4 categories."
      ]
    },
    {
      "cell_type": "code",
      "execution_count": null,
      "metadata": {
        "colab": {
          "base_uri": "https://localhost:8080/"
        },
        "id": "MXX92qrIF0XZ",
        "outputId": "97af3373-6acd-43f5-9eb1-6c64caf7e525"
      },
      "outputs": [
        {
          "output_type": "stream",
          "name": "stdout",
          "text": [
            "No public record    348845\n",
            "Very recent          17306\n",
            "Some time ago        17102\n",
            "Long time ago        16747\n",
            "Name: public_record_recency, dtype: int64\n"
          ]
        }
      ],
      "source": [
        "# Define the categories, including 'No public record'\n",
        "public_record_categories = ['Very recent', 'Some time ago', 'Long time ago', 'No public record']\n",
        "\n",
        "# Use pd.qcut on the non-null values to categorize them\n",
        "# Temporarily exclude null values by using dropna() and later fill these with 'No public record'\n",
        "df['public_record_recency'] = pd.qcut(df['X26'].dropna(),\n",
        "                                       q=3,\n",
        "                                       labels=public_record_categories[:-1])  # Exclude 'No public record' for this operation\n",
        "\n",
        "# Convert to categorical and explicitly define all categories, including 'No public record'\n",
        "df['public_record_recency'] = pd.Categorical(df['public_record_recency'], categories=public_record_categories, ordered=True)\n",
        "\n",
        "# Fill NA values in the new column with 'No public record'\n",
        "df['public_record_recency'].fillna('No public record', inplace=True)\n",
        "\n",
        "# Drop the original column\n",
        "df.drop('X26', axis=1, inplace=True)\n",
        "\n",
        "print(df['public_record_recency'].value_counts())"
      ]
    },
    {
      "cell_type": "markdown",
      "source": [
        "### Drop other blank/null values"
      ],
      "metadata": {
        "id": "_RCjfxHTrtBz"
      }
    },
    {
      "cell_type": "code",
      "execution_count": null,
      "metadata": {
        "id": "xqm6ixETF0Xb"
      },
      "outputs": [],
      "source": [
        "# Replace blank values with NaN\n",
        "# This replaces both empty strings and strings with only whitespace\n",
        "df.replace(r'^\\s*$', np.nan, regex=True, inplace=True)\n",
        "\n",
        "# Drop rows with NaN values\n",
        "# This will drop any row that contains at least one NaN value\n",
        "df.dropna(inplace=True)"
      ]
    },
    {
      "cell_type": "code",
      "execution_count": null,
      "metadata": {
        "colab": {
          "base_uri": "https://localhost:8080/"
        },
        "id": "9RN9yBllF0Xb",
        "outputId": "20be39c4-e200-47bd-b9f1-265a7acf458f"
      },
      "outputs": [
        {
          "output_type": "stream",
          "name": "stdout",
          "text": [
            "<class 'pandas.core.frame.DataFrame'>\n",
            "Int64Index: 193248 entries, 1 to 399998\n",
            "Data columns (total 32 columns):\n",
            " #   Column                 Non-Null Count   Dtype   \n",
            "---  ------                 --------------   -----   \n",
            " 0   X1                     193248 non-null  object  \n",
            " 1   X2                     193248 non-null  float64 \n",
            " 2   X3                     193248 non-null  float64 \n",
            " 3   X4                     193248 non-null  object  \n",
            " 4   X5                     193248 non-null  object  \n",
            " 5   X6                     193248 non-null  object  \n",
            " 6   X7                     193248 non-null  object  \n",
            " 7   X8                     193248 non-null  object  \n",
            " 8   X9                     193248 non-null  object  \n",
            " 9   X10                    193248 non-null  object  \n",
            " 10  X11                    193248 non-null  object  \n",
            " 11  X12                    193248 non-null  object  \n",
            " 12  X13                    193248 non-null  float64 \n",
            " 13  X14                    193248 non-null  object  \n",
            " 14  X15                    193248 non-null  object  \n",
            " 15  X17                    193248 non-null  object  \n",
            " 16  X18                    193248 non-null  object  \n",
            " 17  X19                    193248 non-null  object  \n",
            " 18  X20                    193248 non-null  object  \n",
            " 19  X21                    193248 non-null  float64 \n",
            " 20  X22                    193248 non-null  float64 \n",
            " 21  X23                    193248 non-null  object  \n",
            " 22  X24                    193248 non-null  float64 \n",
            " 23  X27                    193248 non-null  float64 \n",
            " 24  X28                    193248 non-null  float64 \n",
            " 25  X29                    193248 non-null  float64 \n",
            " 26  X30                    193248 non-null  object  \n",
            " 27  X31                    193248 non-null  float64 \n",
            " 28  X32                    193248 non-null  object  \n",
            " 29  Provided loan reasons  193248 non-null  int64   \n",
            " 30  delinquency_recency    193248 non-null  category\n",
            " 31  public_record_recency  193248 non-null  category\n",
            "dtypes: category(2), float64(10), int64(1), object(19)\n",
            "memory usage: 46.1+ MB\n"
          ]
        }
      ],
      "source": [
        "df.info()"
      ]
    },
    {
      "cell_type": "markdown",
      "source": [
        "### Drop obviously irrelevant features"
      ],
      "metadata": {
        "id": "cC7AiEbarzVl"
      }
    },
    {
      "cell_type": "markdown",
      "source": [
        "Since loan grade and loan subgrade are highly correlated and similar, I decided to drop loan subgrade for simplicity.\n",
        "\n",
        "**Dropped columns:**\n",
        "\n",
        "X2: A unique id for the loan\n",
        "\n",
        "X3: A unique id assigned for the borrower\n",
        "\n",
        "X9: Loan subgrade\n",
        "\n",
        "X15: Date loan was issued\n",
        "\n",
        "X19: First 3 numbers of zip code\n"
      ],
      "metadata": {
        "id": "PCK3M-5Lr4h0"
      }
    },
    {
      "cell_type": "code",
      "execution_count": null,
      "metadata": {
        "colab": {
          "base_uri": "https://localhost:8080/",
          "height": 382
        },
        "id": "Nn3FcJzMF0Xb",
        "outputId": "9f5865ca-351a-445d-eed1-e957d107f992"
      },
      "outputs": [
        {
          "output_type": "execute_result",
          "data": {
            "text/plain": [
              "       X1       X4       X5       X6          X7 X8                     X10  \\\n",
              "1  10.71%   $7,000   $7,000     $673   36 months  B                     CNN   \n",
              "2  16.99%  $25,000  $25,000  $24,725   36 months  D          Web Programmer   \n",
              "3  13.11%   $1,200   $1,200   $1,200   36 months  C  city of beaumont texas   \n",
              "4  13.57%  $10,800  $10,800  $10,692   36 months  C    State Farm Insurance   \n",
              "5  19.05%   $7,200   $7,200   $7,200   36 months  D               Arkwright   \n",
              "\n",
              "         X11   X12      X13                       X14                 X17  \\\n",
              "1   < 1 year  RENT  65000.0              not verified         credit_card   \n",
              "2     1 year  RENT  70000.0         VERIFIED - income  debt_consolidation   \n",
              "3  10+ years   OWN  54000.0              not verified  debt_consolidation   \n",
              "4    6 years  RENT  32000.0              not verified  debt_consolidation   \n",
              "5    9 years  RENT  58000.0  VERIFIED - income source  debt_consolidation   \n",
              "\n",
              "                  X18 X20    X21  X22     X23  X24   X27  X28      X29  \\\n",
              "1  Credit Card payoff  NY  14.29  0.0  Oct-00  0.0   7.0  0.0  33623.0   \n",
              "2                mlue  NY  10.50  0.0  Jun-00  0.0  10.0  0.0  19878.0   \n",
              "3               zxcvb  TX   5.47  0.0  Jan-85  0.0   5.0  0.0   2584.0   \n",
              "4       Nicolechr1978  CT  11.63  0.0  Dec-96  1.0  14.0  0.0   3511.0   \n",
              "5           caminijio  RI   2.05  0.0  Apr-94  0.0   6.0  0.0   3874.0   \n",
              "\n",
              "      X30   X31 X32  Provided loan reasons delinquency_recency  \\\n",
              "1  76.70%   7.0   f                      1      No delinquency   \n",
              "2  66.30%  17.0   f                      1       Some time ago   \n",
              "3  40.40%  31.0   f                      1       Long time ago   \n",
              "4  25.60%  40.0   f                      1       Long time ago   \n",
              "5  90.10%  25.0   f                      1       Some time ago   \n",
              "\n",
              "  public_record_recency  \n",
              "1      No public record  \n",
              "2      No public record  \n",
              "3      No public record  \n",
              "4      No public record  \n",
              "5      No public record  "
            ],
            "text/html": [
              "\n",
              "  <div id=\"df-e0e7ea34-1674-4c80-8140-80604d74a394\" class=\"colab-df-container\">\n",
              "    <div>\n",
              "<style scoped>\n",
              "    .dataframe tbody tr th:only-of-type {\n",
              "        vertical-align: middle;\n",
              "    }\n",
              "\n",
              "    .dataframe tbody tr th {\n",
              "        vertical-align: top;\n",
              "    }\n",
              "\n",
              "    .dataframe thead th {\n",
              "        text-align: right;\n",
              "    }\n",
              "</style>\n",
              "<table border=\"1\" class=\"dataframe\">\n",
              "  <thead>\n",
              "    <tr style=\"text-align: right;\">\n",
              "      <th></th>\n",
              "      <th>X1</th>\n",
              "      <th>X4</th>\n",
              "      <th>X5</th>\n",
              "      <th>X6</th>\n",
              "      <th>X7</th>\n",
              "      <th>X8</th>\n",
              "      <th>X10</th>\n",
              "      <th>X11</th>\n",
              "      <th>X12</th>\n",
              "      <th>X13</th>\n",
              "      <th>X14</th>\n",
              "      <th>X17</th>\n",
              "      <th>X18</th>\n",
              "      <th>X20</th>\n",
              "      <th>X21</th>\n",
              "      <th>X22</th>\n",
              "      <th>X23</th>\n",
              "      <th>X24</th>\n",
              "      <th>X27</th>\n",
              "      <th>X28</th>\n",
              "      <th>X29</th>\n",
              "      <th>X30</th>\n",
              "      <th>X31</th>\n",
              "      <th>X32</th>\n",
              "      <th>Provided loan reasons</th>\n",
              "      <th>delinquency_recency</th>\n",
              "      <th>public_record_recency</th>\n",
              "    </tr>\n",
              "  </thead>\n",
              "  <tbody>\n",
              "    <tr>\n",
              "      <th>1</th>\n",
              "      <td>10.71%</td>\n",
              "      <td>$7,000</td>\n",
              "      <td>$7,000</td>\n",
              "      <td>$673</td>\n",
              "      <td>36 months</td>\n",
              "      <td>B</td>\n",
              "      <td>CNN</td>\n",
              "      <td>&lt; 1 year</td>\n",
              "      <td>RENT</td>\n",
              "      <td>65000.0</td>\n",
              "      <td>not verified</td>\n",
              "      <td>credit_card</td>\n",
              "      <td>Credit Card payoff</td>\n",
              "      <td>NY</td>\n",
              "      <td>14.29</td>\n",
              "      <td>0.0</td>\n",
              "      <td>Oct-00</td>\n",
              "      <td>0.0</td>\n",
              "      <td>7.0</td>\n",
              "      <td>0.0</td>\n",
              "      <td>33623.0</td>\n",
              "      <td>76.70%</td>\n",
              "      <td>7.0</td>\n",
              "      <td>f</td>\n",
              "      <td>1</td>\n",
              "      <td>No delinquency</td>\n",
              "      <td>No public record</td>\n",
              "    </tr>\n",
              "    <tr>\n",
              "      <th>2</th>\n",
              "      <td>16.99%</td>\n",
              "      <td>$25,000</td>\n",
              "      <td>$25,000</td>\n",
              "      <td>$24,725</td>\n",
              "      <td>36 months</td>\n",
              "      <td>D</td>\n",
              "      <td>Web Programmer</td>\n",
              "      <td>1 year</td>\n",
              "      <td>RENT</td>\n",
              "      <td>70000.0</td>\n",
              "      <td>VERIFIED - income</td>\n",
              "      <td>debt_consolidation</td>\n",
              "      <td>mlue</td>\n",
              "      <td>NY</td>\n",
              "      <td>10.50</td>\n",
              "      <td>0.0</td>\n",
              "      <td>Jun-00</td>\n",
              "      <td>0.0</td>\n",
              "      <td>10.0</td>\n",
              "      <td>0.0</td>\n",
              "      <td>19878.0</td>\n",
              "      <td>66.30%</td>\n",
              "      <td>17.0</td>\n",
              "      <td>f</td>\n",
              "      <td>1</td>\n",
              "      <td>Some time ago</td>\n",
              "      <td>No public record</td>\n",
              "    </tr>\n",
              "    <tr>\n",
              "      <th>3</th>\n",
              "      <td>13.11%</td>\n",
              "      <td>$1,200</td>\n",
              "      <td>$1,200</td>\n",
              "      <td>$1,200</td>\n",
              "      <td>36 months</td>\n",
              "      <td>C</td>\n",
              "      <td>city of beaumont texas</td>\n",
              "      <td>10+ years</td>\n",
              "      <td>OWN</td>\n",
              "      <td>54000.0</td>\n",
              "      <td>not verified</td>\n",
              "      <td>debt_consolidation</td>\n",
              "      <td>zxcvb</td>\n",
              "      <td>TX</td>\n",
              "      <td>5.47</td>\n",
              "      <td>0.0</td>\n",
              "      <td>Jan-85</td>\n",
              "      <td>0.0</td>\n",
              "      <td>5.0</td>\n",
              "      <td>0.0</td>\n",
              "      <td>2584.0</td>\n",
              "      <td>40.40%</td>\n",
              "      <td>31.0</td>\n",
              "      <td>f</td>\n",
              "      <td>1</td>\n",
              "      <td>Long time ago</td>\n",
              "      <td>No public record</td>\n",
              "    </tr>\n",
              "    <tr>\n",
              "      <th>4</th>\n",
              "      <td>13.57%</td>\n",
              "      <td>$10,800</td>\n",
              "      <td>$10,800</td>\n",
              "      <td>$10,692</td>\n",
              "      <td>36 months</td>\n",
              "      <td>C</td>\n",
              "      <td>State Farm Insurance</td>\n",
              "      <td>6 years</td>\n",
              "      <td>RENT</td>\n",
              "      <td>32000.0</td>\n",
              "      <td>not verified</td>\n",
              "      <td>debt_consolidation</td>\n",
              "      <td>Nicolechr1978</td>\n",
              "      <td>CT</td>\n",
              "      <td>11.63</td>\n",
              "      <td>0.0</td>\n",
              "      <td>Dec-96</td>\n",
              "      <td>1.0</td>\n",
              "      <td>14.0</td>\n",
              "      <td>0.0</td>\n",
              "      <td>3511.0</td>\n",
              "      <td>25.60%</td>\n",
              "      <td>40.0</td>\n",
              "      <td>f</td>\n",
              "      <td>1</td>\n",
              "      <td>Long time ago</td>\n",
              "      <td>No public record</td>\n",
              "    </tr>\n",
              "    <tr>\n",
              "      <th>5</th>\n",
              "      <td>19.05%</td>\n",
              "      <td>$7,200</td>\n",
              "      <td>$7,200</td>\n",
              "      <td>$7,200</td>\n",
              "      <td>36 months</td>\n",
              "      <td>D</td>\n",
              "      <td>Arkwright</td>\n",
              "      <td>9 years</td>\n",
              "      <td>RENT</td>\n",
              "      <td>58000.0</td>\n",
              "      <td>VERIFIED - income source</td>\n",
              "      <td>debt_consolidation</td>\n",
              "      <td>caminijio</td>\n",
              "      <td>RI</td>\n",
              "      <td>2.05</td>\n",
              "      <td>0.0</td>\n",
              "      <td>Apr-94</td>\n",
              "      <td>0.0</td>\n",
              "      <td>6.0</td>\n",
              "      <td>0.0</td>\n",
              "      <td>3874.0</td>\n",
              "      <td>90.10%</td>\n",
              "      <td>25.0</td>\n",
              "      <td>f</td>\n",
              "      <td>1</td>\n",
              "      <td>Some time ago</td>\n",
              "      <td>No public record</td>\n",
              "    </tr>\n",
              "  </tbody>\n",
              "</table>\n",
              "</div>\n",
              "    <div class=\"colab-df-buttons\">\n",
              "\n",
              "  <div class=\"colab-df-container\">\n",
              "    <button class=\"colab-df-convert\" onclick=\"convertToInteractive('df-e0e7ea34-1674-4c80-8140-80604d74a394')\"\n",
              "            title=\"Convert this dataframe to an interactive table.\"\n",
              "            style=\"display:none;\">\n",
              "\n",
              "  <svg xmlns=\"http://www.w3.org/2000/svg\" height=\"24px\" viewBox=\"0 -960 960 960\">\n",
              "    <path d=\"M120-120v-720h720v720H120Zm60-500h600v-160H180v160Zm220 220h160v-160H400v160Zm0 220h160v-160H400v160ZM180-400h160v-160H180v160Zm440 0h160v-160H620v160ZM180-180h160v-160H180v160Zm440 0h160v-160H620v160Z\"/>\n",
              "  </svg>\n",
              "    </button>\n",
              "\n",
              "  <style>\n",
              "    .colab-df-container {\n",
              "      display:flex;\n",
              "      gap: 12px;\n",
              "    }\n",
              "\n",
              "    .colab-df-convert {\n",
              "      background-color: #E8F0FE;\n",
              "      border: none;\n",
              "      border-radius: 50%;\n",
              "      cursor: pointer;\n",
              "      display: none;\n",
              "      fill: #1967D2;\n",
              "      height: 32px;\n",
              "      padding: 0 0 0 0;\n",
              "      width: 32px;\n",
              "    }\n",
              "\n",
              "    .colab-df-convert:hover {\n",
              "      background-color: #E2EBFA;\n",
              "      box-shadow: 0px 1px 2px rgba(60, 64, 67, 0.3), 0px 1px 3px 1px rgba(60, 64, 67, 0.15);\n",
              "      fill: #174EA6;\n",
              "    }\n",
              "\n",
              "    .colab-df-buttons div {\n",
              "      margin-bottom: 4px;\n",
              "    }\n",
              "\n",
              "    [theme=dark] .colab-df-convert {\n",
              "      background-color: #3B4455;\n",
              "      fill: #D2E3FC;\n",
              "    }\n",
              "\n",
              "    [theme=dark] .colab-df-convert:hover {\n",
              "      background-color: #434B5C;\n",
              "      box-shadow: 0px 1px 3px 1px rgba(0, 0, 0, 0.15);\n",
              "      filter: drop-shadow(0px 1px 2px rgba(0, 0, 0, 0.3));\n",
              "      fill: #FFFFFF;\n",
              "    }\n",
              "  </style>\n",
              "\n",
              "    <script>\n",
              "      const buttonEl =\n",
              "        document.querySelector('#df-e0e7ea34-1674-4c80-8140-80604d74a394 button.colab-df-convert');\n",
              "      buttonEl.style.display =\n",
              "        google.colab.kernel.accessAllowed ? 'block' : 'none';\n",
              "\n",
              "      async function convertToInteractive(key) {\n",
              "        const element = document.querySelector('#df-e0e7ea34-1674-4c80-8140-80604d74a394');\n",
              "        const dataTable =\n",
              "          await google.colab.kernel.invokeFunction('convertToInteractive',\n",
              "                                                    [key], {});\n",
              "        if (!dataTable) return;\n",
              "\n",
              "        const docLinkHtml = 'Like what you see? Visit the ' +\n",
              "          '<a target=\"_blank\" href=https://colab.research.google.com/notebooks/data_table.ipynb>data table notebook</a>'\n",
              "          + ' to learn more about interactive tables.';\n",
              "        element.innerHTML = '';\n",
              "        dataTable['output_type'] = 'display_data';\n",
              "        await google.colab.output.renderOutput(dataTable, element);\n",
              "        const docLink = document.createElement('div');\n",
              "        docLink.innerHTML = docLinkHtml;\n",
              "        element.appendChild(docLink);\n",
              "      }\n",
              "    </script>\n",
              "  </div>\n",
              "\n",
              "\n",
              "<div id=\"df-edadb5cc-af06-4cd5-8eef-51163f86c045\">\n",
              "  <button class=\"colab-df-quickchart\" onclick=\"quickchart('df-edadb5cc-af06-4cd5-8eef-51163f86c045')\"\n",
              "            title=\"Suggest charts\"\n",
              "            style=\"display:none;\">\n",
              "\n",
              "<svg xmlns=\"http://www.w3.org/2000/svg\" height=\"24px\"viewBox=\"0 0 24 24\"\n",
              "     width=\"24px\">\n",
              "    <g>\n",
              "        <path d=\"M19 3H5c-1.1 0-2 .9-2 2v14c0 1.1.9 2 2 2h14c1.1 0 2-.9 2-2V5c0-1.1-.9-2-2-2zM9 17H7v-7h2v7zm4 0h-2V7h2v10zm4 0h-2v-4h2v4z\"/>\n",
              "    </g>\n",
              "</svg>\n",
              "  </button>\n",
              "\n",
              "<style>\n",
              "  .colab-df-quickchart {\n",
              "      --bg-color: #E8F0FE;\n",
              "      --fill-color: #1967D2;\n",
              "      --hover-bg-color: #E2EBFA;\n",
              "      --hover-fill-color: #174EA6;\n",
              "      --disabled-fill-color: #AAA;\n",
              "      --disabled-bg-color: #DDD;\n",
              "  }\n",
              "\n",
              "  [theme=dark] .colab-df-quickchart {\n",
              "      --bg-color: #3B4455;\n",
              "      --fill-color: #D2E3FC;\n",
              "      --hover-bg-color: #434B5C;\n",
              "      --hover-fill-color: #FFFFFF;\n",
              "      --disabled-bg-color: #3B4455;\n",
              "      --disabled-fill-color: #666;\n",
              "  }\n",
              "\n",
              "  .colab-df-quickchart {\n",
              "    background-color: var(--bg-color);\n",
              "    border: none;\n",
              "    border-radius: 50%;\n",
              "    cursor: pointer;\n",
              "    display: none;\n",
              "    fill: var(--fill-color);\n",
              "    height: 32px;\n",
              "    padding: 0;\n",
              "    width: 32px;\n",
              "  }\n",
              "\n",
              "  .colab-df-quickchart:hover {\n",
              "    background-color: var(--hover-bg-color);\n",
              "    box-shadow: 0 1px 2px rgba(60, 64, 67, 0.3), 0 1px 3px 1px rgba(60, 64, 67, 0.15);\n",
              "    fill: var(--button-hover-fill-color);\n",
              "  }\n",
              "\n",
              "  .colab-df-quickchart-complete:disabled,\n",
              "  .colab-df-quickchart-complete:disabled:hover {\n",
              "    background-color: var(--disabled-bg-color);\n",
              "    fill: var(--disabled-fill-color);\n",
              "    box-shadow: none;\n",
              "  }\n",
              "\n",
              "  .colab-df-spinner {\n",
              "    border: 2px solid var(--fill-color);\n",
              "    border-color: transparent;\n",
              "    border-bottom-color: var(--fill-color);\n",
              "    animation:\n",
              "      spin 1s steps(1) infinite;\n",
              "  }\n",
              "\n",
              "  @keyframes spin {\n",
              "    0% {\n",
              "      border-color: transparent;\n",
              "      border-bottom-color: var(--fill-color);\n",
              "      border-left-color: var(--fill-color);\n",
              "    }\n",
              "    20% {\n",
              "      border-color: transparent;\n",
              "      border-left-color: var(--fill-color);\n",
              "      border-top-color: var(--fill-color);\n",
              "    }\n",
              "    30% {\n",
              "      border-color: transparent;\n",
              "      border-left-color: var(--fill-color);\n",
              "      border-top-color: var(--fill-color);\n",
              "      border-right-color: var(--fill-color);\n",
              "    }\n",
              "    40% {\n",
              "      border-color: transparent;\n",
              "      border-right-color: var(--fill-color);\n",
              "      border-top-color: var(--fill-color);\n",
              "    }\n",
              "    60% {\n",
              "      border-color: transparent;\n",
              "      border-right-color: var(--fill-color);\n",
              "    }\n",
              "    80% {\n",
              "      border-color: transparent;\n",
              "      border-right-color: var(--fill-color);\n",
              "      border-bottom-color: var(--fill-color);\n",
              "    }\n",
              "    90% {\n",
              "      border-color: transparent;\n",
              "      border-bottom-color: var(--fill-color);\n",
              "    }\n",
              "  }\n",
              "</style>\n",
              "\n",
              "  <script>\n",
              "    async function quickchart(key) {\n",
              "      const quickchartButtonEl =\n",
              "        document.querySelector('#' + key + ' button');\n",
              "      quickchartButtonEl.disabled = true;  // To prevent multiple clicks.\n",
              "      quickchartButtonEl.classList.add('colab-df-spinner');\n",
              "      try {\n",
              "        const charts = await google.colab.kernel.invokeFunction(\n",
              "            'suggestCharts', [key], {});\n",
              "      } catch (error) {\n",
              "        console.error('Error during call to suggestCharts:', error);\n",
              "      }\n",
              "      quickchartButtonEl.classList.remove('colab-df-spinner');\n",
              "      quickchartButtonEl.classList.add('colab-df-quickchart-complete');\n",
              "    }\n",
              "    (() => {\n",
              "      let quickchartButtonEl =\n",
              "        document.querySelector('#df-edadb5cc-af06-4cd5-8eef-51163f86c045 button');\n",
              "      quickchartButtonEl.style.display =\n",
              "        google.colab.kernel.accessAllowed ? 'block' : 'none';\n",
              "    })();\n",
              "  </script>\n",
              "</div>\n",
              "\n",
              "    </div>\n",
              "  </div>\n"
            ],
            "application/vnd.google.colaboratory.intrinsic+json": {
              "type": "dataframe",
              "variable_name": "df"
            }
          },
          "metadata": {},
          "execution_count": 20
        }
      ],
      "source": [
        "df = df.drop(['X2', 'X3', 'X9', 'X15', 'X19'], axis=1)\n",
        "df.head()"
      ]
    },
    {
      "cell_type": "markdown",
      "source": [
        "### X23 feature engineering"
      ],
      "metadata": {
        "id": "O1KWkz1RsH5s"
      }
    },
    {
      "cell_type": "markdown",
      "metadata": {
        "id": "O2tAfHGEF0Xb"
      },
      "source": [
        "For the variable X23(Date the borrower's earliest reported credit line was opened), its date type makes it difficult to fit models later. In order to simplify it, I converted into a numerical column representing the number of days since the borrower's earliest reported credit line was opened compared to the current date. As a result, I dropped X23 and created a new variable called \"days_since_earliest_credit_line_opened\"."
      ]
    },
    {
      "cell_type": "code",
      "execution_count": null,
      "metadata": {
        "id": "dO6nPxstF0Xc"
      },
      "outputs": [],
      "source": [
        "# Current date for calculation\n",
        "current_date = datetime.now()\n",
        "\n",
        "# Convert 'X23' to datetime format assuming the first day of the month\n",
        "df['X23'] = pd.to_datetime(df['X23'], format='%b-%y')\n",
        "\n",
        "# Correct for dates being interpreted as in the future due to two-digit year\n",
        "# This adjustment ensures that any dates parsed as being in the future are corrected by subtracting 100 years\n",
        "df['X23'] = df['X23'].apply(lambda x: x - pd.DateOffset(years=100) if x > current_date else x)\n",
        "\n",
        "# Calculate 'days_since_earliest_credit_line_opened'\n",
        "df['days_since_earliest_credit_line_opened'] = (current_date - df['X23']).dt.days\n",
        "\n",
        "# Drop the original 'X23' column\n",
        "df.drop('X23', axis=1, inplace=True)"
      ]
    },
    {
      "cell_type": "markdown",
      "source": [
        "### Explore other variables"
      ],
      "metadata": {
        "id": "q1IFNeGOsxML"
      }
    },
    {
      "cell_type": "markdown",
      "source": [
        "Below, I further analyzed other columns in the dataset to see possible groupings of the data or column removals to reduce the dimensionality for regression task modeling."
      ],
      "metadata": {
        "id": "-GvQ4W1OuCIX"
      }
    },
    {
      "cell_type": "markdown",
      "source": [
        "#### X10: Employer or job title (self-filled)"
      ],
      "metadata": {
        "id": "8B9DMw5_uJbX"
      }
    },
    {
      "cell_type": "code",
      "execution_count": null,
      "metadata": {
        "colab": {
          "base_uri": "https://localhost:8080/"
        },
        "id": "vCilaDW_F0Xd",
        "outputId": "b018c25a-ec78-4110-d1d6-e89e47938c5e"
      },
      "outputs": [
        {
          "output_type": "stream",
          "name": "stdout",
          "text": [
            "Teacher                        2195\n",
            "Manager                        1728\n",
            "Registered Nurse                922\n",
            "RN                              883\n",
            "Supervisor                      784\n",
            "                               ... \n",
            "Gucci America                     1\n",
            "Metropolitan National Bank        1\n",
            "DFKing worldwide                  1\n",
            "CeramOptec Industries             1\n",
            "Scott Recreation Commission       1\n",
            "Name: X10, Length: 106612, dtype: int64\n",
            "106612\n"
          ]
        }
      ],
      "source": [
        "print(df['X10'].value_counts())\n",
        "print(len(df['X10'].value_counts()))"
      ]
    },
    {
      "cell_type": "markdown",
      "metadata": {
        "id": "NYC08pVYF0Xd"
      },
      "source": [
        "For the variable X10(Employer or job title (self-filled)), since it's self-filled, there are 106612 unique values. It's impossible to vectorize them and fit them into the models. Also this column isn't particularly useful to predict loan interest rate since it's indirect and there are other more valuable features in the dataset. So I decided to drop this column."
      ]
    },
    {
      "cell_type": "code",
      "execution_count": null,
      "metadata": {
        "id": "9zMpuseOF0Xd"
      },
      "outputs": [],
      "source": [
        "df = df.drop(['X10'], axis=1)"
      ]
    },
    {
      "cell_type": "markdown",
      "source": [
        "#### X11: Number of years employed (0 to 10; 10 = 10 or more)"
      ],
      "metadata": {
        "id": "UjXkYj89uVpe"
      }
    },
    {
      "cell_type": "code",
      "execution_count": null,
      "metadata": {
        "colab": {
          "base_uri": "https://localhost:8080/"
        },
        "id": "SLBIfxJSF0Xd",
        "outputId": "3f68e708-7884-4bac-fa8a-248bb3b3c5c6"
      },
      "outputs": [
        {
          "output_type": "stream",
          "name": "stdout",
          "text": [
            "10+ years    64320\n",
            "2 years      18106\n",
            "3 years      15870\n",
            "< 1 year     15397\n",
            "5 years      13722\n",
            "1 year       12880\n",
            "4 years      12170\n",
            "6 years      11830\n",
            "7 years      11545\n",
            "8 years       9665\n",
            "9 years       7743\n",
            "Name: X11, dtype: int64\n",
            "11\n"
          ]
        }
      ],
      "source": [
        "print(df['X11'].value_counts())\n",
        "print(len(df['X11'].value_counts()))"
      ]
    },
    {
      "cell_type": "markdown",
      "metadata": {
        "id": "-2ar5-koF0Xd"
      },
      "source": [
        "Since for X11(Number of years employed), there is too much granualarity than necessary(11 categories). So I grouped the values into three more general categories while the column name remained unchanged."
      ]
    },
    {
      "cell_type": "code",
      "source": [
        "df['X11'] = df['X11'].apply(map_years_employed_to_category)"
      ],
      "metadata": {
        "id": "iLJcKbyh4LlA"
      },
      "execution_count": null,
      "outputs": []
    },
    {
      "cell_type": "code",
      "execution_count": null,
      "metadata": {
        "colab": {
          "base_uri": "https://localhost:8080/"
        },
        "id": "Z0t0jG9TF0Xe",
        "outputId": "164ba425-2767-4bc9-c0ec-ee213bd64a94"
      },
      "outputs": [
        {
          "output_type": "stream",
          "name": "stdout",
          "text": [
            "5 years or less        88145\n",
            "10+ years              64320\n",
            "5 years to 10 years    40783\n",
            "Name: X11, dtype: int64\n",
            "3\n"
          ]
        }
      ],
      "source": [
        "print(df['X11'].value_counts())\n",
        "print(len(df['X11'].value_counts()))"
      ]
    },
    {
      "cell_type": "markdown",
      "source": [
        "#### X12: Home ownership status: RENT, OWN, MORTGAGE, OTHER."
      ],
      "metadata": {
        "id": "-xc6rpCLv_xZ"
      }
    },
    {
      "cell_type": "code",
      "execution_count": null,
      "metadata": {
        "colab": {
          "base_uri": "https://localhost:8080/"
        },
        "id": "wfTAlJcwF0Xe",
        "outputId": "b7dc3ce7-e6e4-4117-8b6f-8613d83d26f6"
      },
      "outputs": [
        {
          "output_type": "stream",
          "name": "stdout",
          "text": [
            "MORTGAGE    98628\n",
            "RENT        78666\n",
            "OWN         15856\n",
            "OTHER          74\n",
            "NONE           23\n",
            "ANY             1\n",
            "Name: X12, dtype: int64\n",
            "6\n"
          ]
        }
      ],
      "source": [
        "print(df['X12'].value_counts())\n",
        "print(len(df['X12'].value_counts()))"
      ]
    },
    {
      "cell_type": "markdown",
      "metadata": {
        "id": "KYkwFihoF0Xf"
      },
      "source": [
        "For the variable X12(Home ownership status), there are some infrequent categories that can be directly dropped, which helped reduce dimensionality for encoding categorical variables later."
      ]
    },
    {
      "cell_type": "code",
      "execution_count": null,
      "metadata": {
        "colab": {
          "base_uri": "https://localhost:8080/"
        },
        "id": "yI83ye4EF0Xf",
        "outputId": "7f7def67-2c65-46dc-8bd8-4f5cc62c08af"
      },
      "outputs": [
        {
          "output_type": "execute_result",
          "data": {
            "text/plain": [
              "193150"
            ]
          },
          "metadata": {},
          "execution_count": 29
        }
      ],
      "source": [
        "X12_cate_counts = df['X12'].value_counts()\n",
        "\n",
        "# Identify less frequent categories\n",
        "less_frequent_categories = X12_cate_counts[X12_cate_counts < 80].index\n",
        "\n",
        "# Filter out rows with these less frequent categories\n",
        "df = df[~df['X12'].isin(less_frequent_categories)]\n",
        "\n",
        "len(df)"
      ]
    },
    {
      "cell_type": "code",
      "execution_count": null,
      "metadata": {
        "colab": {
          "base_uri": "https://localhost:8080/"
        },
        "id": "0cTFewu9F0Xf",
        "outputId": "3f35c50f-5630-4560-b046-0472e0a3cd32"
      },
      "outputs": [
        {
          "output_type": "stream",
          "name": "stdout",
          "text": [
            "MORTGAGE    98628\n",
            "RENT        78666\n",
            "OWN         15856\n",
            "Name: X12, dtype: int64\n",
            "3\n"
          ]
        }
      ],
      "source": [
        "print(df['X12'].value_counts())\n",
        "print(len(df['X12'].value_counts()))"
      ]
    },
    {
      "cell_type": "markdown",
      "source": [
        "#### X14: Income verified, not verified, or income source was verified"
      ],
      "metadata": {
        "id": "ta_xo_QUwK3T"
      }
    },
    {
      "cell_type": "code",
      "execution_count": null,
      "metadata": {
        "colab": {
          "base_uri": "https://localhost:8080/"
        },
        "id": "shCmVwAdF0Xg",
        "outputId": "27e68b0d-bc08-48de-ef0b-ed2ee10e539c"
      },
      "outputs": [
        {
          "output_type": "stream",
          "name": "stdout",
          "text": [
            "VERIFIED - income           68545\n",
            "not verified                64727\n",
            "VERIFIED - income source    59878\n",
            "Name: X14, dtype: int64\n",
            "3\n"
          ]
        }
      ],
      "source": [
        "print(df['X14'].value_counts())\n",
        "print(len(df['X14'].value_counts()))"
      ]
    },
    {
      "cell_type": "markdown",
      "source": [
        "No adjustments are needed for X14."
      ],
      "metadata": {
        "id": "n-WTQ3zmwZqX"
      }
    },
    {
      "cell_type": "markdown",
      "source": [
        "#### X17: Loan category, as provided by borrower"
      ],
      "metadata": {
        "id": "mvp4yHsqwgaS"
      }
    },
    {
      "cell_type": "code",
      "execution_count": null,
      "metadata": {
        "colab": {
          "base_uri": "https://localhost:8080/"
        },
        "id": "qxe30vKVF0Xg",
        "outputId": "11795d37-84a6-4f32-95eb-c8e34bdb4a40"
      },
      "outputs": [
        {
          "output_type": "stream",
          "name": "stdout",
          "text": [
            "debt_consolidation    113927\n",
            "credit_card            42892\n",
            "home_improvement       11002\n",
            "other                   9626\n",
            "major_purchase          4105\n",
            "small_business          2705\n",
            "car                     2371\n",
            "medical                 1866\n",
            "moving                  1202\n",
            "wedding                 1125\n",
            "vacation                1030\n",
            "house                    977\n",
            "educational              161\n",
            "renewable_energy         161\n",
            "Name: X17, dtype: int64\n",
            "14\n"
          ]
        }
      ],
      "source": [
        "print(df['X17'].value_counts())\n",
        "print(len(df['X17'].value_counts()))"
      ]
    },
    {
      "cell_type": "markdown",
      "metadata": {
        "id": "XQSJ0G2tF0Xg"
      },
      "source": [
        "Similarly, I dropped some infrequent categories in X17(Loan category) to reduce dimensionality for encoding categorical variables later."
      ]
    },
    {
      "cell_type": "code",
      "execution_count": null,
      "metadata": {
        "colab": {
          "base_uri": "https://localhost:8080/"
        },
        "id": "Gb1Wc2-1F0Xg",
        "outputId": "916866ec-544f-4949-92e7-af1ac8197461"
      },
      "outputs": [
        {
          "output_type": "execute_result",
          "data": {
            "text/plain": [
              "192828"
            ]
          },
          "metadata": {},
          "execution_count": 33
        }
      ],
      "source": [
        "X17_cate_counts = df['X17'].value_counts()\n",
        "\n",
        "# Identify less frequent categories\n",
        "X17_less_frequent_categories = X17_cate_counts[X17_cate_counts < 200].index\n",
        "\n",
        "# Filter out rows with these less frequent categories\n",
        "df = df[~df['X17'].isin(X17_less_frequent_categories)]\n",
        "\n",
        "len(df)"
      ]
    },
    {
      "cell_type": "code",
      "execution_count": null,
      "metadata": {
        "colab": {
          "base_uri": "https://localhost:8080/"
        },
        "id": "YpMyfiamF0Xh",
        "outputId": "1693cf33-4b23-4633-ae3f-3bb4f39a1803"
      },
      "outputs": [
        {
          "output_type": "stream",
          "name": "stdout",
          "text": [
            "debt_consolidation    113927\n",
            "credit_card            42892\n",
            "home_improvement       11002\n",
            "other                   9626\n",
            "major_purchase          4105\n",
            "small_business          2705\n",
            "car                     2371\n",
            "medical                 1866\n",
            "moving                  1202\n",
            "wedding                 1125\n",
            "vacation                1030\n",
            "house                    977\n",
            "Name: X17, dtype: int64\n",
            "12\n"
          ]
        }
      ],
      "source": [
        "print(df['X17'].value_counts())\n",
        "print(len(df['X17'].value_counts()))"
      ]
    },
    {
      "cell_type": "markdown",
      "source": [
        "#### X18: Loan title, as provided by borrower"
      ],
      "metadata": {
        "id": "v0jWh86jwtCa"
      }
    },
    {
      "cell_type": "code",
      "execution_count": null,
      "metadata": {
        "colab": {
          "base_uri": "https://localhost:8080/"
        },
        "id": "1SNkKWXJF0Xh",
        "outputId": "e3fbec55-7a09-4a77-a231-e5b8d2f47051"
      },
      "outputs": [
        {
          "output_type": "stream",
          "name": "stdout",
          "text": [
            "Debt consolidation                          60682\n",
            "Credit card refinancing                     22880\n",
            "Debt Consolidation                           7666\n",
            "Home improvement                             5590\n",
            "Other                                        4563\n",
            "                                            ...  \n",
            "High Income & Credit - Consolidate CrCrd        1\n",
            "debt cosonlidations and other                   1\n",
            "Cost of Relocation                              1\n",
            "Personal Green Loan                             1\n",
            "Looking For A Little Help                       1\n",
            "Name: X18, Length: 32760, dtype: int64\n",
            "32760\n"
          ]
        }
      ],
      "source": [
        "print(df['X18'].value_counts())\n",
        "print(len(df['X18'].value_counts()))"
      ]
    },
    {
      "cell_type": "markdown",
      "metadata": {
        "id": "iiW92fX8F0Xh"
      },
      "source": [
        "Similar to variable X10(Employer or job title (self-filled)), X18(loan title provided by borrower) also has many unique values(32760). It's impossible to vectorize them and fit them into the models. Also this column isn't particularly useful to predict loan interest rate since it's self-filled again and there are other more objective and valuable features in the dataset. So I decided to drop this column."
      ]
    },
    {
      "cell_type": "code",
      "execution_count": null,
      "metadata": {
        "id": "f8LszxyMF0Xi"
      },
      "outputs": [],
      "source": [
        "df = df.drop(['X18'], axis=1)"
      ]
    },
    {
      "cell_type": "markdown",
      "source": [
        "#### X20: State of borrower"
      ],
      "metadata": {
        "id": "iF82YlmEwzAE"
      }
    },
    {
      "cell_type": "code",
      "execution_count": null,
      "metadata": {
        "colab": {
          "base_uri": "https://localhost:8080/"
        },
        "id": "brQHoXHjF0Xp",
        "outputId": "4f2b8b68-2bdd-4a8b-f06d-1446a651db54"
      },
      "outputs": [
        {
          "output_type": "stream",
          "name": "stdout",
          "text": [
            "50\n"
          ]
        }
      ],
      "source": [
        "# print(df['X20'].value_counts())\n",
        "print(len(df['X20'].value_counts()))"
      ]
    },
    {
      "cell_type": "markdown",
      "metadata": {
        "id": "5LlAQklAF0Xq"
      },
      "source": [
        "Since there are 50 unique values in this variable X20(state of borrower) and the borrower's location shouldn't be an important factor for determining loan interest rate, I decided to drop this feature."
      ]
    },
    {
      "cell_type": "code",
      "execution_count": null,
      "metadata": {
        "id": "k-Q8VL2DF0Xq"
      },
      "outputs": [],
      "source": [
        "df.drop('X20', axis=1, inplace=True)"
      ]
    },
    {
      "cell_type": "markdown",
      "source": [
        "#### X31: The initial listing status of the loan. Possible values are W and F.\n",
        "\n",
        "\n"
      ],
      "metadata": {
        "id": "0-8ewLVxw6b7"
      }
    },
    {
      "cell_type": "code",
      "execution_count": null,
      "metadata": {
        "colab": {
          "base_uri": "https://localhost:8080/"
        },
        "id": "ZEnIv_qJF0Xq",
        "outputId": "d8b9accb-2c47-4206-a09a-51f32ee965c8"
      },
      "outputs": [
        {
          "output_type": "stream",
          "name": "stdout",
          "text": [
            "f    131932\n",
            "w     60896\n",
            "Name: X32, dtype: int64\n",
            "2\n"
          ]
        }
      ],
      "source": [
        "print(df['X32'].value_counts())\n",
        "print(len(df['X32'].value_counts()))"
      ]
    },
    {
      "cell_type": "markdown",
      "source": [
        "No adjustments are needed for X31."
      ],
      "metadata": {
        "id": "g9QV2HhGxEPD"
      }
    },
    {
      "cell_type": "code",
      "execution_count": null,
      "metadata": {
        "colab": {
          "base_uri": "https://localhost:8080/",
          "height": 487
        },
        "id": "OedrHsd3F0Xq",
        "outputId": "f59f7f42-4169-4aeb-af99-6f1691b41073"
      },
      "outputs": [
        {
          "output_type": "execute_result",
          "data": {
            "text/plain": [
              "       X1       X4       X5       X6          X7 X8                  X11  \\\n",
              "1  10.71%   $7,000   $7,000     $673   36 months  B      5 years or less   \n",
              "2  16.99%  $25,000  $25,000  $24,725   36 months  D      5 years or less   \n",
              "3  13.11%   $1,200   $1,200   $1,200   36 months  C            10+ years   \n",
              "4  13.57%  $10,800  $10,800  $10,692   36 months  C  5 years to 10 years   \n",
              "5  19.05%   $7,200   $7,200   $7,200   36 months  D  5 years to 10 years   \n",
              "\n",
              "    X12      X13                       X14                 X17    X21  X22  \\\n",
              "1  RENT  65000.0              not verified         credit_card  14.29  0.0   \n",
              "2  RENT  70000.0         VERIFIED - income  debt_consolidation  10.50  0.0   \n",
              "3   OWN  54000.0              not verified  debt_consolidation   5.47  0.0   \n",
              "4  RENT  32000.0              not verified  debt_consolidation  11.63  0.0   \n",
              "5  RENT  58000.0  VERIFIED - income source  debt_consolidation   2.05  0.0   \n",
              "\n",
              "   X24   X27  X28      X29     X30   X31 X32  Provided loan reasons  \\\n",
              "1  0.0   7.0  0.0  33623.0  76.70%   7.0   f                      1   \n",
              "2  0.0  10.0  0.0  19878.0  66.30%  17.0   f                      1   \n",
              "3  0.0   5.0  0.0   2584.0  40.40%  31.0   f                      1   \n",
              "4  1.0  14.0  0.0   3511.0  25.60%  40.0   f                      1   \n",
              "5  0.0   6.0  0.0   3874.0  90.10%  25.0   f                      1   \n",
              "\n",
              "  delinquency_recency public_record_recency  \\\n",
              "1      No delinquency      No public record   \n",
              "2       Some time ago      No public record   \n",
              "3       Long time ago      No public record   \n",
              "4       Long time ago      No public record   \n",
              "5       Some time ago      No public record   \n",
              "\n",
              "   days_since_earliest_credit_line_opened  \n",
              "1                                    8537  \n",
              "2                                    8659  \n",
              "3                                   14289  \n",
              "4                                    9937  \n",
              "5                                   10912  "
            ],
            "text/html": [
              "\n",
              "  <div id=\"df-a3a56a54-1595-455f-b6e6-2a236f88c16e\" class=\"colab-df-container\">\n",
              "    <div>\n",
              "<style scoped>\n",
              "    .dataframe tbody tr th:only-of-type {\n",
              "        vertical-align: middle;\n",
              "    }\n",
              "\n",
              "    .dataframe tbody tr th {\n",
              "        vertical-align: top;\n",
              "    }\n",
              "\n",
              "    .dataframe thead th {\n",
              "        text-align: right;\n",
              "    }\n",
              "</style>\n",
              "<table border=\"1\" class=\"dataframe\">\n",
              "  <thead>\n",
              "    <tr style=\"text-align: right;\">\n",
              "      <th></th>\n",
              "      <th>X1</th>\n",
              "      <th>X4</th>\n",
              "      <th>X5</th>\n",
              "      <th>X6</th>\n",
              "      <th>X7</th>\n",
              "      <th>X8</th>\n",
              "      <th>X11</th>\n",
              "      <th>X12</th>\n",
              "      <th>X13</th>\n",
              "      <th>X14</th>\n",
              "      <th>X17</th>\n",
              "      <th>X21</th>\n",
              "      <th>X22</th>\n",
              "      <th>X24</th>\n",
              "      <th>X27</th>\n",
              "      <th>X28</th>\n",
              "      <th>X29</th>\n",
              "      <th>X30</th>\n",
              "      <th>X31</th>\n",
              "      <th>X32</th>\n",
              "      <th>Provided loan reasons</th>\n",
              "      <th>delinquency_recency</th>\n",
              "      <th>public_record_recency</th>\n",
              "      <th>days_since_earliest_credit_line_opened</th>\n",
              "    </tr>\n",
              "  </thead>\n",
              "  <tbody>\n",
              "    <tr>\n",
              "      <th>1</th>\n",
              "      <td>10.71%</td>\n",
              "      <td>$7,000</td>\n",
              "      <td>$7,000</td>\n",
              "      <td>$673</td>\n",
              "      <td>36 months</td>\n",
              "      <td>B</td>\n",
              "      <td>5 years or less</td>\n",
              "      <td>RENT</td>\n",
              "      <td>65000.0</td>\n",
              "      <td>not verified</td>\n",
              "      <td>credit_card</td>\n",
              "      <td>14.29</td>\n",
              "      <td>0.0</td>\n",
              "      <td>0.0</td>\n",
              "      <td>7.0</td>\n",
              "      <td>0.0</td>\n",
              "      <td>33623.0</td>\n",
              "      <td>76.70%</td>\n",
              "      <td>7.0</td>\n",
              "      <td>f</td>\n",
              "      <td>1</td>\n",
              "      <td>No delinquency</td>\n",
              "      <td>No public record</td>\n",
              "      <td>8537</td>\n",
              "    </tr>\n",
              "    <tr>\n",
              "      <th>2</th>\n",
              "      <td>16.99%</td>\n",
              "      <td>$25,000</td>\n",
              "      <td>$25,000</td>\n",
              "      <td>$24,725</td>\n",
              "      <td>36 months</td>\n",
              "      <td>D</td>\n",
              "      <td>5 years or less</td>\n",
              "      <td>RENT</td>\n",
              "      <td>70000.0</td>\n",
              "      <td>VERIFIED - income</td>\n",
              "      <td>debt_consolidation</td>\n",
              "      <td>10.50</td>\n",
              "      <td>0.0</td>\n",
              "      <td>0.0</td>\n",
              "      <td>10.0</td>\n",
              "      <td>0.0</td>\n",
              "      <td>19878.0</td>\n",
              "      <td>66.30%</td>\n",
              "      <td>17.0</td>\n",
              "      <td>f</td>\n",
              "      <td>1</td>\n",
              "      <td>Some time ago</td>\n",
              "      <td>No public record</td>\n",
              "      <td>8659</td>\n",
              "    </tr>\n",
              "    <tr>\n",
              "      <th>3</th>\n",
              "      <td>13.11%</td>\n",
              "      <td>$1,200</td>\n",
              "      <td>$1,200</td>\n",
              "      <td>$1,200</td>\n",
              "      <td>36 months</td>\n",
              "      <td>C</td>\n",
              "      <td>10+ years</td>\n",
              "      <td>OWN</td>\n",
              "      <td>54000.0</td>\n",
              "      <td>not verified</td>\n",
              "      <td>debt_consolidation</td>\n",
              "      <td>5.47</td>\n",
              "      <td>0.0</td>\n",
              "      <td>0.0</td>\n",
              "      <td>5.0</td>\n",
              "      <td>0.0</td>\n",
              "      <td>2584.0</td>\n",
              "      <td>40.40%</td>\n",
              "      <td>31.0</td>\n",
              "      <td>f</td>\n",
              "      <td>1</td>\n",
              "      <td>Long time ago</td>\n",
              "      <td>No public record</td>\n",
              "      <td>14289</td>\n",
              "    </tr>\n",
              "    <tr>\n",
              "      <th>4</th>\n",
              "      <td>13.57%</td>\n",
              "      <td>$10,800</td>\n",
              "      <td>$10,800</td>\n",
              "      <td>$10,692</td>\n",
              "      <td>36 months</td>\n",
              "      <td>C</td>\n",
              "      <td>5 years to 10 years</td>\n",
              "      <td>RENT</td>\n",
              "      <td>32000.0</td>\n",
              "      <td>not verified</td>\n",
              "      <td>debt_consolidation</td>\n",
              "      <td>11.63</td>\n",
              "      <td>0.0</td>\n",
              "      <td>1.0</td>\n",
              "      <td>14.0</td>\n",
              "      <td>0.0</td>\n",
              "      <td>3511.0</td>\n",
              "      <td>25.60%</td>\n",
              "      <td>40.0</td>\n",
              "      <td>f</td>\n",
              "      <td>1</td>\n",
              "      <td>Long time ago</td>\n",
              "      <td>No public record</td>\n",
              "      <td>9937</td>\n",
              "    </tr>\n",
              "    <tr>\n",
              "      <th>5</th>\n",
              "      <td>19.05%</td>\n",
              "      <td>$7,200</td>\n",
              "      <td>$7,200</td>\n",
              "      <td>$7,200</td>\n",
              "      <td>36 months</td>\n",
              "      <td>D</td>\n",
              "      <td>5 years to 10 years</td>\n",
              "      <td>RENT</td>\n",
              "      <td>58000.0</td>\n",
              "      <td>VERIFIED - income source</td>\n",
              "      <td>debt_consolidation</td>\n",
              "      <td>2.05</td>\n",
              "      <td>0.0</td>\n",
              "      <td>0.0</td>\n",
              "      <td>6.0</td>\n",
              "      <td>0.0</td>\n",
              "      <td>3874.0</td>\n",
              "      <td>90.10%</td>\n",
              "      <td>25.0</td>\n",
              "      <td>f</td>\n",
              "      <td>1</td>\n",
              "      <td>Some time ago</td>\n",
              "      <td>No public record</td>\n",
              "      <td>10912</td>\n",
              "    </tr>\n",
              "  </tbody>\n",
              "</table>\n",
              "</div>\n",
              "    <div class=\"colab-df-buttons\">\n",
              "\n",
              "  <div class=\"colab-df-container\">\n",
              "    <button class=\"colab-df-convert\" onclick=\"convertToInteractive('df-a3a56a54-1595-455f-b6e6-2a236f88c16e')\"\n",
              "            title=\"Convert this dataframe to an interactive table.\"\n",
              "            style=\"display:none;\">\n",
              "\n",
              "  <svg xmlns=\"http://www.w3.org/2000/svg\" height=\"24px\" viewBox=\"0 -960 960 960\">\n",
              "    <path d=\"M120-120v-720h720v720H120Zm60-500h600v-160H180v160Zm220 220h160v-160H400v160Zm0 220h160v-160H400v160ZM180-400h160v-160H180v160Zm440 0h160v-160H620v160ZM180-180h160v-160H180v160Zm440 0h160v-160H620v160Z\"/>\n",
              "  </svg>\n",
              "    </button>\n",
              "\n",
              "  <style>\n",
              "    .colab-df-container {\n",
              "      display:flex;\n",
              "      gap: 12px;\n",
              "    }\n",
              "\n",
              "    .colab-df-convert {\n",
              "      background-color: #E8F0FE;\n",
              "      border: none;\n",
              "      border-radius: 50%;\n",
              "      cursor: pointer;\n",
              "      display: none;\n",
              "      fill: #1967D2;\n",
              "      height: 32px;\n",
              "      padding: 0 0 0 0;\n",
              "      width: 32px;\n",
              "    }\n",
              "\n",
              "    .colab-df-convert:hover {\n",
              "      background-color: #E2EBFA;\n",
              "      box-shadow: 0px 1px 2px rgba(60, 64, 67, 0.3), 0px 1px 3px 1px rgba(60, 64, 67, 0.15);\n",
              "      fill: #174EA6;\n",
              "    }\n",
              "\n",
              "    .colab-df-buttons div {\n",
              "      margin-bottom: 4px;\n",
              "    }\n",
              "\n",
              "    [theme=dark] .colab-df-convert {\n",
              "      background-color: #3B4455;\n",
              "      fill: #D2E3FC;\n",
              "    }\n",
              "\n",
              "    [theme=dark] .colab-df-convert:hover {\n",
              "      background-color: #434B5C;\n",
              "      box-shadow: 0px 1px 3px 1px rgba(0, 0, 0, 0.15);\n",
              "      filter: drop-shadow(0px 1px 2px rgba(0, 0, 0, 0.3));\n",
              "      fill: #FFFFFF;\n",
              "    }\n",
              "  </style>\n",
              "\n",
              "    <script>\n",
              "      const buttonEl =\n",
              "        document.querySelector('#df-a3a56a54-1595-455f-b6e6-2a236f88c16e button.colab-df-convert');\n",
              "      buttonEl.style.display =\n",
              "        google.colab.kernel.accessAllowed ? 'block' : 'none';\n",
              "\n",
              "      async function convertToInteractive(key) {\n",
              "        const element = document.querySelector('#df-a3a56a54-1595-455f-b6e6-2a236f88c16e');\n",
              "        const dataTable =\n",
              "          await google.colab.kernel.invokeFunction('convertToInteractive',\n",
              "                                                    [key], {});\n",
              "        if (!dataTable) return;\n",
              "\n",
              "        const docLinkHtml = 'Like what you see? Visit the ' +\n",
              "          '<a target=\"_blank\" href=https://colab.research.google.com/notebooks/data_table.ipynb>data table notebook</a>'\n",
              "          + ' to learn more about interactive tables.';\n",
              "        element.innerHTML = '';\n",
              "        dataTable['output_type'] = 'display_data';\n",
              "        await google.colab.output.renderOutput(dataTable, element);\n",
              "        const docLink = document.createElement('div');\n",
              "        docLink.innerHTML = docLinkHtml;\n",
              "        element.appendChild(docLink);\n",
              "      }\n",
              "    </script>\n",
              "  </div>\n",
              "\n",
              "\n",
              "<div id=\"df-6c03f8a1-9acb-403b-b798-39b3dd388889\">\n",
              "  <button class=\"colab-df-quickchart\" onclick=\"quickchart('df-6c03f8a1-9acb-403b-b798-39b3dd388889')\"\n",
              "            title=\"Suggest charts\"\n",
              "            style=\"display:none;\">\n",
              "\n",
              "<svg xmlns=\"http://www.w3.org/2000/svg\" height=\"24px\"viewBox=\"0 0 24 24\"\n",
              "     width=\"24px\">\n",
              "    <g>\n",
              "        <path d=\"M19 3H5c-1.1 0-2 .9-2 2v14c0 1.1.9 2 2 2h14c1.1 0 2-.9 2-2V5c0-1.1-.9-2-2-2zM9 17H7v-7h2v7zm4 0h-2V7h2v10zm4 0h-2v-4h2v4z\"/>\n",
              "    </g>\n",
              "</svg>\n",
              "  </button>\n",
              "\n",
              "<style>\n",
              "  .colab-df-quickchart {\n",
              "      --bg-color: #E8F0FE;\n",
              "      --fill-color: #1967D2;\n",
              "      --hover-bg-color: #E2EBFA;\n",
              "      --hover-fill-color: #174EA6;\n",
              "      --disabled-fill-color: #AAA;\n",
              "      --disabled-bg-color: #DDD;\n",
              "  }\n",
              "\n",
              "  [theme=dark] .colab-df-quickchart {\n",
              "      --bg-color: #3B4455;\n",
              "      --fill-color: #D2E3FC;\n",
              "      --hover-bg-color: #434B5C;\n",
              "      --hover-fill-color: #FFFFFF;\n",
              "      --disabled-bg-color: #3B4455;\n",
              "      --disabled-fill-color: #666;\n",
              "  }\n",
              "\n",
              "  .colab-df-quickchart {\n",
              "    background-color: var(--bg-color);\n",
              "    border: none;\n",
              "    border-radius: 50%;\n",
              "    cursor: pointer;\n",
              "    display: none;\n",
              "    fill: var(--fill-color);\n",
              "    height: 32px;\n",
              "    padding: 0;\n",
              "    width: 32px;\n",
              "  }\n",
              "\n",
              "  .colab-df-quickchart:hover {\n",
              "    background-color: var(--hover-bg-color);\n",
              "    box-shadow: 0 1px 2px rgba(60, 64, 67, 0.3), 0 1px 3px 1px rgba(60, 64, 67, 0.15);\n",
              "    fill: var(--button-hover-fill-color);\n",
              "  }\n",
              "\n",
              "  .colab-df-quickchart-complete:disabled,\n",
              "  .colab-df-quickchart-complete:disabled:hover {\n",
              "    background-color: var(--disabled-bg-color);\n",
              "    fill: var(--disabled-fill-color);\n",
              "    box-shadow: none;\n",
              "  }\n",
              "\n",
              "  .colab-df-spinner {\n",
              "    border: 2px solid var(--fill-color);\n",
              "    border-color: transparent;\n",
              "    border-bottom-color: var(--fill-color);\n",
              "    animation:\n",
              "      spin 1s steps(1) infinite;\n",
              "  }\n",
              "\n",
              "  @keyframes spin {\n",
              "    0% {\n",
              "      border-color: transparent;\n",
              "      border-bottom-color: var(--fill-color);\n",
              "      border-left-color: var(--fill-color);\n",
              "    }\n",
              "    20% {\n",
              "      border-color: transparent;\n",
              "      border-left-color: var(--fill-color);\n",
              "      border-top-color: var(--fill-color);\n",
              "    }\n",
              "    30% {\n",
              "      border-color: transparent;\n",
              "      border-left-color: var(--fill-color);\n",
              "      border-top-color: var(--fill-color);\n",
              "      border-right-color: var(--fill-color);\n",
              "    }\n",
              "    40% {\n",
              "      border-color: transparent;\n",
              "      border-right-color: var(--fill-color);\n",
              "      border-top-color: var(--fill-color);\n",
              "    }\n",
              "    60% {\n",
              "      border-color: transparent;\n",
              "      border-right-color: var(--fill-color);\n",
              "    }\n",
              "    80% {\n",
              "      border-color: transparent;\n",
              "      border-right-color: var(--fill-color);\n",
              "      border-bottom-color: var(--fill-color);\n",
              "    }\n",
              "    90% {\n",
              "      border-color: transparent;\n",
              "      border-bottom-color: var(--fill-color);\n",
              "    }\n",
              "  }\n",
              "</style>\n",
              "\n",
              "  <script>\n",
              "    async function quickchart(key) {\n",
              "      const quickchartButtonEl =\n",
              "        document.querySelector('#' + key + ' button');\n",
              "      quickchartButtonEl.disabled = true;  // To prevent multiple clicks.\n",
              "      quickchartButtonEl.classList.add('colab-df-spinner');\n",
              "      try {\n",
              "        const charts = await google.colab.kernel.invokeFunction(\n",
              "            'suggestCharts', [key], {});\n",
              "      } catch (error) {\n",
              "        console.error('Error during call to suggestCharts:', error);\n",
              "      }\n",
              "      quickchartButtonEl.classList.remove('colab-df-spinner');\n",
              "      quickchartButtonEl.classList.add('colab-df-quickchart-complete');\n",
              "    }\n",
              "    (() => {\n",
              "      let quickchartButtonEl =\n",
              "        document.querySelector('#df-6c03f8a1-9acb-403b-b798-39b3dd388889 button');\n",
              "      quickchartButtonEl.style.display =\n",
              "        google.colab.kernel.accessAllowed ? 'block' : 'none';\n",
              "    })();\n",
              "  </script>\n",
              "</div>\n",
              "\n",
              "    </div>\n",
              "  </div>\n"
            ],
            "application/vnd.google.colaboratory.intrinsic+json": {
              "type": "dataframe",
              "variable_name": "df"
            }
          },
          "metadata": {},
          "execution_count": 40
        }
      ],
      "source": [
        "pd.set_option('display.max_columns', None)\n",
        "df.head()"
      ]
    },
    {
      "cell_type": "markdown",
      "source": [
        "### Final cleaning before model building"
      ],
      "metadata": {
        "id": "9TAuj8C7xPGM"
      }
    },
    {
      "cell_type": "code",
      "execution_count": null,
      "metadata": {
        "id": "ufOvsqDeF0Xr"
      },
      "outputs": [],
      "source": [
        "# Remove '$', ',', and '%' from numerical values\n",
        "\n",
        "df['X1'] = df['X1'].str.rstrip('%').astype(float) / 100\n",
        "df['X4'] = df['X4'].replace('[\\$,]', '', regex=True).astype(float)\n",
        "df['X5'] = df['X5'].replace('[\\$,]', '', regex=True).astype(float)\n",
        "df['X6'] = df['X6'].replace('[\\$,]', '', regex=True).astype(float)\n",
        "df['X30'] = df['X30'].str.rstrip('%').astype(float) / 100"
      ]
    },
    {
      "cell_type": "code",
      "execution_count": null,
      "metadata": {
        "colab": {
          "base_uri": "https://localhost:8080/",
          "height": 487
        },
        "id": "MOLgJXVmF0Xr",
        "outputId": "b2de7c1e-1cc8-4225-a8f4-90a447ba3301"
      },
      "outputs": [
        {
          "output_type": "execute_result",
          "data": {
            "text/plain": [
              "       X1       X4       X5       X6          X7 X8                  X11  \\\n",
              "1  0.1071   7000.0   7000.0    673.0   36 months  B      5 years or less   \n",
              "2  0.1699  25000.0  25000.0  24725.0   36 months  D      5 years or less   \n",
              "3  0.1311   1200.0   1200.0   1200.0   36 months  C            10+ years   \n",
              "4  0.1357  10800.0  10800.0  10692.0   36 months  C  5 years to 10 years   \n",
              "5  0.1905   7200.0   7200.0   7200.0   36 months  D  5 years to 10 years   \n",
              "\n",
              "    X12      X13                       X14                 X17    X21  X22  \\\n",
              "1  RENT  65000.0              not verified         credit_card  14.29  0.0   \n",
              "2  RENT  70000.0         VERIFIED - income  debt_consolidation  10.50  0.0   \n",
              "3   OWN  54000.0              not verified  debt_consolidation   5.47  0.0   \n",
              "4  RENT  32000.0              not verified  debt_consolidation  11.63  0.0   \n",
              "5  RENT  58000.0  VERIFIED - income source  debt_consolidation   2.05  0.0   \n",
              "\n",
              "   X24   X27  X28      X29    X30   X31 X32  Provided loan reasons  \\\n",
              "1  0.0   7.0  0.0  33623.0  0.767   7.0   f                      1   \n",
              "2  0.0  10.0  0.0  19878.0  0.663  17.0   f                      1   \n",
              "3  0.0   5.0  0.0   2584.0  0.404  31.0   f                      1   \n",
              "4  1.0  14.0  0.0   3511.0  0.256  40.0   f                      1   \n",
              "5  0.0   6.0  0.0   3874.0  0.901  25.0   f                      1   \n",
              "\n",
              "  delinquency_recency public_record_recency  \\\n",
              "1      No delinquency      No public record   \n",
              "2       Some time ago      No public record   \n",
              "3       Long time ago      No public record   \n",
              "4       Long time ago      No public record   \n",
              "5       Some time ago      No public record   \n",
              "\n",
              "   days_since_earliest_credit_line_opened  \n",
              "1                                    8537  \n",
              "2                                    8659  \n",
              "3                                   14289  \n",
              "4                                    9937  \n",
              "5                                   10912  "
            ],
            "text/html": [
              "\n",
              "  <div id=\"df-afe00268-95b5-4b59-a74e-a9e92b6e6bf9\" class=\"colab-df-container\">\n",
              "    <div>\n",
              "<style scoped>\n",
              "    .dataframe tbody tr th:only-of-type {\n",
              "        vertical-align: middle;\n",
              "    }\n",
              "\n",
              "    .dataframe tbody tr th {\n",
              "        vertical-align: top;\n",
              "    }\n",
              "\n",
              "    .dataframe thead th {\n",
              "        text-align: right;\n",
              "    }\n",
              "</style>\n",
              "<table border=\"1\" class=\"dataframe\">\n",
              "  <thead>\n",
              "    <tr style=\"text-align: right;\">\n",
              "      <th></th>\n",
              "      <th>X1</th>\n",
              "      <th>X4</th>\n",
              "      <th>X5</th>\n",
              "      <th>X6</th>\n",
              "      <th>X7</th>\n",
              "      <th>X8</th>\n",
              "      <th>X11</th>\n",
              "      <th>X12</th>\n",
              "      <th>X13</th>\n",
              "      <th>X14</th>\n",
              "      <th>X17</th>\n",
              "      <th>X21</th>\n",
              "      <th>X22</th>\n",
              "      <th>X24</th>\n",
              "      <th>X27</th>\n",
              "      <th>X28</th>\n",
              "      <th>X29</th>\n",
              "      <th>X30</th>\n",
              "      <th>X31</th>\n",
              "      <th>X32</th>\n",
              "      <th>Provided loan reasons</th>\n",
              "      <th>delinquency_recency</th>\n",
              "      <th>public_record_recency</th>\n",
              "      <th>days_since_earliest_credit_line_opened</th>\n",
              "    </tr>\n",
              "  </thead>\n",
              "  <tbody>\n",
              "    <tr>\n",
              "      <th>1</th>\n",
              "      <td>0.1071</td>\n",
              "      <td>7000.0</td>\n",
              "      <td>7000.0</td>\n",
              "      <td>673.0</td>\n",
              "      <td>36 months</td>\n",
              "      <td>B</td>\n",
              "      <td>5 years or less</td>\n",
              "      <td>RENT</td>\n",
              "      <td>65000.0</td>\n",
              "      <td>not verified</td>\n",
              "      <td>credit_card</td>\n",
              "      <td>14.29</td>\n",
              "      <td>0.0</td>\n",
              "      <td>0.0</td>\n",
              "      <td>7.0</td>\n",
              "      <td>0.0</td>\n",
              "      <td>33623.0</td>\n",
              "      <td>0.767</td>\n",
              "      <td>7.0</td>\n",
              "      <td>f</td>\n",
              "      <td>1</td>\n",
              "      <td>No delinquency</td>\n",
              "      <td>No public record</td>\n",
              "      <td>8537</td>\n",
              "    </tr>\n",
              "    <tr>\n",
              "      <th>2</th>\n",
              "      <td>0.1699</td>\n",
              "      <td>25000.0</td>\n",
              "      <td>25000.0</td>\n",
              "      <td>24725.0</td>\n",
              "      <td>36 months</td>\n",
              "      <td>D</td>\n",
              "      <td>5 years or less</td>\n",
              "      <td>RENT</td>\n",
              "      <td>70000.0</td>\n",
              "      <td>VERIFIED - income</td>\n",
              "      <td>debt_consolidation</td>\n",
              "      <td>10.50</td>\n",
              "      <td>0.0</td>\n",
              "      <td>0.0</td>\n",
              "      <td>10.0</td>\n",
              "      <td>0.0</td>\n",
              "      <td>19878.0</td>\n",
              "      <td>0.663</td>\n",
              "      <td>17.0</td>\n",
              "      <td>f</td>\n",
              "      <td>1</td>\n",
              "      <td>Some time ago</td>\n",
              "      <td>No public record</td>\n",
              "      <td>8659</td>\n",
              "    </tr>\n",
              "    <tr>\n",
              "      <th>3</th>\n",
              "      <td>0.1311</td>\n",
              "      <td>1200.0</td>\n",
              "      <td>1200.0</td>\n",
              "      <td>1200.0</td>\n",
              "      <td>36 months</td>\n",
              "      <td>C</td>\n",
              "      <td>10+ years</td>\n",
              "      <td>OWN</td>\n",
              "      <td>54000.0</td>\n",
              "      <td>not verified</td>\n",
              "      <td>debt_consolidation</td>\n",
              "      <td>5.47</td>\n",
              "      <td>0.0</td>\n",
              "      <td>0.0</td>\n",
              "      <td>5.0</td>\n",
              "      <td>0.0</td>\n",
              "      <td>2584.0</td>\n",
              "      <td>0.404</td>\n",
              "      <td>31.0</td>\n",
              "      <td>f</td>\n",
              "      <td>1</td>\n",
              "      <td>Long time ago</td>\n",
              "      <td>No public record</td>\n",
              "      <td>14289</td>\n",
              "    </tr>\n",
              "    <tr>\n",
              "      <th>4</th>\n",
              "      <td>0.1357</td>\n",
              "      <td>10800.0</td>\n",
              "      <td>10800.0</td>\n",
              "      <td>10692.0</td>\n",
              "      <td>36 months</td>\n",
              "      <td>C</td>\n",
              "      <td>5 years to 10 years</td>\n",
              "      <td>RENT</td>\n",
              "      <td>32000.0</td>\n",
              "      <td>not verified</td>\n",
              "      <td>debt_consolidation</td>\n",
              "      <td>11.63</td>\n",
              "      <td>0.0</td>\n",
              "      <td>1.0</td>\n",
              "      <td>14.0</td>\n",
              "      <td>0.0</td>\n",
              "      <td>3511.0</td>\n",
              "      <td>0.256</td>\n",
              "      <td>40.0</td>\n",
              "      <td>f</td>\n",
              "      <td>1</td>\n",
              "      <td>Long time ago</td>\n",
              "      <td>No public record</td>\n",
              "      <td>9937</td>\n",
              "    </tr>\n",
              "    <tr>\n",
              "      <th>5</th>\n",
              "      <td>0.1905</td>\n",
              "      <td>7200.0</td>\n",
              "      <td>7200.0</td>\n",
              "      <td>7200.0</td>\n",
              "      <td>36 months</td>\n",
              "      <td>D</td>\n",
              "      <td>5 years to 10 years</td>\n",
              "      <td>RENT</td>\n",
              "      <td>58000.0</td>\n",
              "      <td>VERIFIED - income source</td>\n",
              "      <td>debt_consolidation</td>\n",
              "      <td>2.05</td>\n",
              "      <td>0.0</td>\n",
              "      <td>0.0</td>\n",
              "      <td>6.0</td>\n",
              "      <td>0.0</td>\n",
              "      <td>3874.0</td>\n",
              "      <td>0.901</td>\n",
              "      <td>25.0</td>\n",
              "      <td>f</td>\n",
              "      <td>1</td>\n",
              "      <td>Some time ago</td>\n",
              "      <td>No public record</td>\n",
              "      <td>10912</td>\n",
              "    </tr>\n",
              "  </tbody>\n",
              "</table>\n",
              "</div>\n",
              "    <div class=\"colab-df-buttons\">\n",
              "\n",
              "  <div class=\"colab-df-container\">\n",
              "    <button class=\"colab-df-convert\" onclick=\"convertToInteractive('df-afe00268-95b5-4b59-a74e-a9e92b6e6bf9')\"\n",
              "            title=\"Convert this dataframe to an interactive table.\"\n",
              "            style=\"display:none;\">\n",
              "\n",
              "  <svg xmlns=\"http://www.w3.org/2000/svg\" height=\"24px\" viewBox=\"0 -960 960 960\">\n",
              "    <path d=\"M120-120v-720h720v720H120Zm60-500h600v-160H180v160Zm220 220h160v-160H400v160Zm0 220h160v-160H400v160ZM180-400h160v-160H180v160Zm440 0h160v-160H620v160ZM180-180h160v-160H180v160Zm440 0h160v-160H620v160Z\"/>\n",
              "  </svg>\n",
              "    </button>\n",
              "\n",
              "  <style>\n",
              "    .colab-df-container {\n",
              "      display:flex;\n",
              "      gap: 12px;\n",
              "    }\n",
              "\n",
              "    .colab-df-convert {\n",
              "      background-color: #E8F0FE;\n",
              "      border: none;\n",
              "      border-radius: 50%;\n",
              "      cursor: pointer;\n",
              "      display: none;\n",
              "      fill: #1967D2;\n",
              "      height: 32px;\n",
              "      padding: 0 0 0 0;\n",
              "      width: 32px;\n",
              "    }\n",
              "\n",
              "    .colab-df-convert:hover {\n",
              "      background-color: #E2EBFA;\n",
              "      box-shadow: 0px 1px 2px rgba(60, 64, 67, 0.3), 0px 1px 3px 1px rgba(60, 64, 67, 0.15);\n",
              "      fill: #174EA6;\n",
              "    }\n",
              "\n",
              "    .colab-df-buttons div {\n",
              "      margin-bottom: 4px;\n",
              "    }\n",
              "\n",
              "    [theme=dark] .colab-df-convert {\n",
              "      background-color: #3B4455;\n",
              "      fill: #D2E3FC;\n",
              "    }\n",
              "\n",
              "    [theme=dark] .colab-df-convert:hover {\n",
              "      background-color: #434B5C;\n",
              "      box-shadow: 0px 1px 3px 1px rgba(0, 0, 0, 0.15);\n",
              "      filter: drop-shadow(0px 1px 2px rgba(0, 0, 0, 0.3));\n",
              "      fill: #FFFFFF;\n",
              "    }\n",
              "  </style>\n",
              "\n",
              "    <script>\n",
              "      const buttonEl =\n",
              "        document.querySelector('#df-afe00268-95b5-4b59-a74e-a9e92b6e6bf9 button.colab-df-convert');\n",
              "      buttonEl.style.display =\n",
              "        google.colab.kernel.accessAllowed ? 'block' : 'none';\n",
              "\n",
              "      async function convertToInteractive(key) {\n",
              "        const element = document.querySelector('#df-afe00268-95b5-4b59-a74e-a9e92b6e6bf9');\n",
              "        const dataTable =\n",
              "          await google.colab.kernel.invokeFunction('convertToInteractive',\n",
              "                                                    [key], {});\n",
              "        if (!dataTable) return;\n",
              "\n",
              "        const docLinkHtml = 'Like what you see? Visit the ' +\n",
              "          '<a target=\"_blank\" href=https://colab.research.google.com/notebooks/data_table.ipynb>data table notebook</a>'\n",
              "          + ' to learn more about interactive tables.';\n",
              "        element.innerHTML = '';\n",
              "        dataTable['output_type'] = 'display_data';\n",
              "        await google.colab.output.renderOutput(dataTable, element);\n",
              "        const docLink = document.createElement('div');\n",
              "        docLink.innerHTML = docLinkHtml;\n",
              "        element.appendChild(docLink);\n",
              "      }\n",
              "    </script>\n",
              "  </div>\n",
              "\n",
              "\n",
              "<div id=\"df-c3843e8a-71f1-43df-b9c2-01da40d8aaa5\">\n",
              "  <button class=\"colab-df-quickchart\" onclick=\"quickchart('df-c3843e8a-71f1-43df-b9c2-01da40d8aaa5')\"\n",
              "            title=\"Suggest charts\"\n",
              "            style=\"display:none;\">\n",
              "\n",
              "<svg xmlns=\"http://www.w3.org/2000/svg\" height=\"24px\"viewBox=\"0 0 24 24\"\n",
              "     width=\"24px\">\n",
              "    <g>\n",
              "        <path d=\"M19 3H5c-1.1 0-2 .9-2 2v14c0 1.1.9 2 2 2h14c1.1 0 2-.9 2-2V5c0-1.1-.9-2-2-2zM9 17H7v-7h2v7zm4 0h-2V7h2v10zm4 0h-2v-4h2v4z\"/>\n",
              "    </g>\n",
              "</svg>\n",
              "  </button>\n",
              "\n",
              "<style>\n",
              "  .colab-df-quickchart {\n",
              "      --bg-color: #E8F0FE;\n",
              "      --fill-color: #1967D2;\n",
              "      --hover-bg-color: #E2EBFA;\n",
              "      --hover-fill-color: #174EA6;\n",
              "      --disabled-fill-color: #AAA;\n",
              "      --disabled-bg-color: #DDD;\n",
              "  }\n",
              "\n",
              "  [theme=dark] .colab-df-quickchart {\n",
              "      --bg-color: #3B4455;\n",
              "      --fill-color: #D2E3FC;\n",
              "      --hover-bg-color: #434B5C;\n",
              "      --hover-fill-color: #FFFFFF;\n",
              "      --disabled-bg-color: #3B4455;\n",
              "      --disabled-fill-color: #666;\n",
              "  }\n",
              "\n",
              "  .colab-df-quickchart {\n",
              "    background-color: var(--bg-color);\n",
              "    border: none;\n",
              "    border-radius: 50%;\n",
              "    cursor: pointer;\n",
              "    display: none;\n",
              "    fill: var(--fill-color);\n",
              "    height: 32px;\n",
              "    padding: 0;\n",
              "    width: 32px;\n",
              "  }\n",
              "\n",
              "  .colab-df-quickchart:hover {\n",
              "    background-color: var(--hover-bg-color);\n",
              "    box-shadow: 0 1px 2px rgba(60, 64, 67, 0.3), 0 1px 3px 1px rgba(60, 64, 67, 0.15);\n",
              "    fill: var(--button-hover-fill-color);\n",
              "  }\n",
              "\n",
              "  .colab-df-quickchart-complete:disabled,\n",
              "  .colab-df-quickchart-complete:disabled:hover {\n",
              "    background-color: var(--disabled-bg-color);\n",
              "    fill: var(--disabled-fill-color);\n",
              "    box-shadow: none;\n",
              "  }\n",
              "\n",
              "  .colab-df-spinner {\n",
              "    border: 2px solid var(--fill-color);\n",
              "    border-color: transparent;\n",
              "    border-bottom-color: var(--fill-color);\n",
              "    animation:\n",
              "      spin 1s steps(1) infinite;\n",
              "  }\n",
              "\n",
              "  @keyframes spin {\n",
              "    0% {\n",
              "      border-color: transparent;\n",
              "      border-bottom-color: var(--fill-color);\n",
              "      border-left-color: var(--fill-color);\n",
              "    }\n",
              "    20% {\n",
              "      border-color: transparent;\n",
              "      border-left-color: var(--fill-color);\n",
              "      border-top-color: var(--fill-color);\n",
              "    }\n",
              "    30% {\n",
              "      border-color: transparent;\n",
              "      border-left-color: var(--fill-color);\n",
              "      border-top-color: var(--fill-color);\n",
              "      border-right-color: var(--fill-color);\n",
              "    }\n",
              "    40% {\n",
              "      border-color: transparent;\n",
              "      border-right-color: var(--fill-color);\n",
              "      border-top-color: var(--fill-color);\n",
              "    }\n",
              "    60% {\n",
              "      border-color: transparent;\n",
              "      border-right-color: var(--fill-color);\n",
              "    }\n",
              "    80% {\n",
              "      border-color: transparent;\n",
              "      border-right-color: var(--fill-color);\n",
              "      border-bottom-color: var(--fill-color);\n",
              "    }\n",
              "    90% {\n",
              "      border-color: transparent;\n",
              "      border-bottom-color: var(--fill-color);\n",
              "    }\n",
              "  }\n",
              "</style>\n",
              "\n",
              "  <script>\n",
              "    async function quickchart(key) {\n",
              "      const quickchartButtonEl =\n",
              "        document.querySelector('#' + key + ' button');\n",
              "      quickchartButtonEl.disabled = true;  // To prevent multiple clicks.\n",
              "      quickchartButtonEl.classList.add('colab-df-spinner');\n",
              "      try {\n",
              "        const charts = await google.colab.kernel.invokeFunction(\n",
              "            'suggestCharts', [key], {});\n",
              "      } catch (error) {\n",
              "        console.error('Error during call to suggestCharts:', error);\n",
              "      }\n",
              "      quickchartButtonEl.classList.remove('colab-df-spinner');\n",
              "      quickchartButtonEl.classList.add('colab-df-quickchart-complete');\n",
              "    }\n",
              "    (() => {\n",
              "      let quickchartButtonEl =\n",
              "        document.querySelector('#df-c3843e8a-71f1-43df-b9c2-01da40d8aaa5 button');\n",
              "      quickchartButtonEl.style.display =\n",
              "        google.colab.kernel.accessAllowed ? 'block' : 'none';\n",
              "    })();\n",
              "  </script>\n",
              "</div>\n",
              "\n",
              "    </div>\n",
              "  </div>\n"
            ],
            "application/vnd.google.colaboratory.intrinsic+json": {
              "type": "dataframe",
              "variable_name": "df"
            }
          },
          "metadata": {},
          "execution_count": 42
        }
      ],
      "source": [
        "pd.set_option('display.max_columns', None)\n",
        "df.head()"
      ]
    },
    {
      "cell_type": "markdown",
      "source": [
        "## Model Building & Selection"
      ],
      "metadata": {
        "id": "ap_26IVnxlIZ"
      }
    },
    {
      "cell_type": "code",
      "execution_count": null,
      "metadata": {
        "id": "ueGG3R6ZF0Xr"
      },
      "outputs": [],
      "source": [
        "X = df.drop('X1', axis=1)\n",
        "y = df['X1']"
      ]
    },
    {
      "cell_type": "markdown",
      "source": [
        "### Train/test split"
      ],
      "metadata": {
        "id": "hMrbeZLYxwmG"
      }
    },
    {
      "cell_type": "code",
      "execution_count": null,
      "metadata": {
        "id": "rPsHQxIFF0Xr"
      },
      "outputs": [],
      "source": [
        "X_train, X_test, y_train, y_test = train_test_split(X, y, test_size=0.2, random_state=42)"
      ]
    },
    {
      "cell_type": "markdown",
      "source": [
        "### Preprocessing for categorical & numerical variables"
      ],
      "metadata": {
        "id": "Z0tp0WR-yMUI"
      }
    },
    {
      "cell_type": "code",
      "source": [
        "categorical_cols = X_train.select_dtypes(include=['object', 'category']).columns\n",
        "numerical_cols = X_train.select_dtypes(include=['float64', 'int']).columns\n",
        "\n",
        "# Creating a column transformer for preprocessing\n",
        "preprocessor = ColumnTransformer(\n",
        "    transformers=[\n",
        "        ('num', StandardScaler(), numerical_cols),\n",
        "        ('cat', OneHotEncoder(), categorical_cols)\n",
        "    ]\n",
        ")"
      ],
      "metadata": {
        "id": "czRa4G7ayLnA"
      },
      "execution_count": null,
      "outputs": []
    },
    {
      "cell_type": "code",
      "execution_count": null,
      "metadata": {
        "colab": {
          "base_uri": "https://localhost:8080/"
        },
        "id": "82Px_CDvF0Xr",
        "outputId": "121a103a-a135-41a9-c157-80c205bff009"
      },
      "outputs": [
        {
          "output_type": "execute_result",
          "data": {
            "text/plain": [
              "Index(['X7', 'X8', 'X11', 'X12', 'X14', 'X17', 'X32', 'delinquency_recency',\n",
              "       'public_record_recency'],\n",
              "      dtype='object')"
            ]
          },
          "metadata": {},
          "execution_count": 45
        }
      ],
      "source": [
        "categorical_cols"
      ]
    },
    {
      "cell_type": "code",
      "execution_count": null,
      "metadata": {
        "colab": {
          "base_uri": "https://localhost:8080/"
        },
        "id": "hmx4RzFMF0Xs",
        "outputId": "ec0f1221-0a35-464f-e16c-efd044838ba3"
      },
      "outputs": [
        {
          "output_type": "execute_result",
          "data": {
            "text/plain": [
              "Index(['X4', 'X5', 'X6', 'X13', 'X21', 'X22', 'X24', 'X27', 'X28', 'X29',\n",
              "       'X30', 'X31', 'Provided loan reasons',\n",
              "       'days_since_earliest_credit_line_opened'],\n",
              "      dtype='object')"
            ]
          },
          "metadata": {},
          "execution_count": 46
        }
      ],
      "source": [
        "numerical_cols"
      ]
    },
    {
      "cell_type": "code",
      "execution_count": null,
      "metadata": {
        "id": "crfhihqIF0Xs"
      },
      "outputs": [],
      "source": [
        "X_train_preprocessed = preprocessor.fit_transform(X_train)\n",
        "X_test_preprocessed = preprocessor.transform(X_test)"
      ]
    },
    {
      "cell_type": "markdown",
      "source": [
        "### Apply PCA to reduce dimensionality"
      ],
      "metadata": {
        "id": "GZ6wOJeOyurE"
      }
    },
    {
      "cell_type": "code",
      "execution_count": null,
      "metadata": {
        "colab": {
          "base_uri": "https://localhost:8080/",
          "height": 487
        },
        "id": "PAEeJvd-F0Xs",
        "outputId": "65b35598-6a85-4932-a43c-78a0182834b0"
      },
      "outputs": [
        {
          "output_type": "display_data",
          "data": {
            "text/plain": [
              "<Figure size 800x500 with 1 Axes>"
            ],
            "image/png": "[encoded data removed]"
          },
          "metadata": {}
        }
      ],
      "source": [
        "pca = PCA().fit(X_train_preprocessed)\n",
        "\n",
        "# Plot the cumulative sum of explained variance ratio\n",
        "plt.figure(figsize=(8, 5))\n",
        "plt.plot(np.cumsum(pca.explained_variance_ratio_), marker='o', linestyle='--')\n",
        "plt.xlabel('Number of Components')\n",
        "plt.ylabel('Cumulative Explained Variance')\n",
        "plt.title('Explained Variance by Number of Components')\n",
        "\n",
        "# Draw line at 90% of explained variance, for example\n",
        "plt.axhline(y=0.95, color='r', linestyle='-', label='95% Explained Variance')\n",
        "plt.legend()\n",
        "\n",
        "plt.show()"
      ]
    },
    {
      "cell_type": "markdown",
      "source": [
        "Based on the graph above, I decided to choose 12 PCA components to reduce dimensionality, It explains 80%+ variance."
      ],
      "metadata": {
        "id": "lBNJAfxSy_1q"
      }
    },
    {
      "cell_type": "code",
      "execution_count": null,
      "metadata": {
        "id": "nvnBCl8dF0Xs"
      },
      "outputs": [],
      "source": [
        "pca = PCA(n_components=12)\n",
        "\n",
        "# Fit PCA on the training data and transform both training and test data\n",
        "X_train_pca = pca.fit_transform(X_train_preprocessed)\n",
        "X_test_pca = pca.transform(X_test_preprocessed)"
      ]
    },
    {
      "cell_type": "markdown",
      "source": [
        "**Below, I subsampled from training set to do model comparison and selection to increase efficiency and for demonstration, but if allowed, it's better to use the entire training set so that each model can learn more information and patterns and we can assess the models more accurately.**"
      ],
      "metadata": {
        "id": "rwXmKBXf1JbT"
      }
    },
    {
      "cell_type": "code",
      "execution_count": null,
      "metadata": {
        "id": "88oz_5J9F0Xt"
      },
      "outputs": [],
      "source": [
        "# Subsample again from training set to increase time efficiency\n",
        "X_train_pca_sub, _, y_train_sub, _ = train_test_split(X_train_pca, y_train, test_size=0.3, random_state=42)"
      ]
    },
    {
      "cell_type": "markdown",
      "source": [
        "### Ridge Regression"
      ],
      "metadata": {
        "id": "H97vqJtnzPZS"
      }
    },
    {
      "cell_type": "code",
      "execution_count": null,
      "metadata": {
        "colab": {
          "base_uri": "https://localhost:8080/"
        },
        "id": "CYUM_rz1F0Xt",
        "outputId": "eb917f6d-59d9-441e-dd49-5d7fa0407cb1"
      },
      "outputs": [
        {
          "output_type": "stream",
          "name": "stdout",
          "text": [
            "Best alpha: 1000.0\n",
            "Best Ridge RMSE from CV: 0.03512274198227533\n"
          ]
        }
      ],
      "source": [
        "# Try Ridge Regression on subsample of training set for hyperparameter tuning to check performance\n",
        "ridge = Ridge(solver='svd')\n",
        "ridge_param_grid = {'alpha': [0.1, 1.0, 10.0, 100.0, 1000.0]}\n",
        "ridge_grid_search = GridSearchCV(estimator=ridge, param_grid=ridge_param_grid, cv=5, scoring='neg_mean_squared_error', n_jobs=-1)\n",
        "\n",
        "# Fit GridSearchCV on the subsampled training data\n",
        "ridge_grid_search.fit(X_train_pca_sub, y_train_sub)\n",
        "\n",
        "# Output the best alpha value found\n",
        "print(\"Best alpha:\", ridge_grid_search.best_params_['alpha'])\n",
        "\n",
        "ridge_best_mse = -ridge_grid_search.best_score_\n",
        "ridge_best_rmse = np.sqrt(ridge_best_mse)\n",
        "\n",
        "print(\"Best Ridge RMSE from CV:\", ridge_best_rmse)\n"
      ]
    },
    {
      "cell_type": "markdown",
      "source": [
        "### KNN"
      ],
      "metadata": {
        "id": "qo4khdvpzblI"
      }
    },
    {
      "cell_type": "code",
      "execution_count": null,
      "metadata": {
        "colab": {
          "base_uri": "https://localhost:8080/"
        },
        "id": "32MsIWFhF0Xt",
        "outputId": "6614f65f-74a2-4d45-ff4b-88c0c893f668"
      },
      "outputs": [
        {
          "output_type": "stream",
          "name": "stdout",
          "text": [
            "Best parameters: {'n_neighbors': 10}\n",
            "Best KNN RMSE from CV: 0.03436548633246997\n"
          ]
        }
      ],
      "source": [
        "# Try KNN on subsample of training set for hyperparameter tuning to check performance\n",
        "knn = KNeighborsRegressor()\n",
        "\n",
        "knn_param_grid = {\n",
        "    'n_neighbors': [3, 5, 10],\n",
        "    }\n",
        "\n",
        "knn_grid_search = GridSearchCV(estimator=knn, param_grid=knn_param_grid, cv=5, scoring='neg_mean_squared_error', n_jobs=-1)\n",
        "\n",
        "knn_grid_search.fit(X_train_pca_sub, y_train_sub)\n",
        "\n",
        "print(\"Best parameters:\", knn_grid_search.best_params_)\n",
        "\n",
        "knn_best_mse = -knn_grid_search.best_score_\n",
        "knn_best_rmse = np.sqrt(knn_best_mse)\n",
        "print(\"Best KNN RMSE from CV:\", knn_best_rmse)"
      ]
    },
    {
      "cell_type": "markdown",
      "source": [
        "### Gradient Boosting"
      ],
      "metadata": {
        "id": "zLjNMNPozd4L"
      }
    },
    {
      "cell_type": "code",
      "execution_count": null,
      "metadata": {
        "colab": {
          "base_uri": "https://localhost:8080/"
        },
        "id": "Q6sLfrg7F0Xu",
        "outputId": "a6bbd960-12f6-400a-bf92-c40894e52809"
      },
      "outputs": [
        {
          "output_type": "stream",
          "name": "stdout",
          "text": [
            "Best parameters: {'learning_rate': 0.1, 'max_depth': 5, 'min_samples_split': 4, 'n_estimators': 300}\n",
            "Best GradientBoosting RMSE from CV: 0.0317844634996706\n"
          ]
        }
      ],
      "source": [
        "# Try GradientBoosting on subsample of training set for hyperparameter tuning to check performance\n",
        "gb = GradientBoostingRegressor(random_state=42)\n",
        "\n",
        "gb_param_grid = {\n",
        "    'n_estimators': [100, 200, 300],\n",
        "    'learning_rate': [0.01, 0.1],\n",
        "    'max_depth': [3, 5, 10],\n",
        "    'min_samples_split': [4, 6, 8]\n",
        "}\n",
        "\n",
        "gb_grid_search = GridSearchCV(estimator=gb, param_grid=gb_param_grid, cv=5, scoring='neg_mean_squared_error', n_jobs=-1)\n",
        "\n",
        "gb_grid_search.fit(X_train_pca_sub, y_train_sub)\n",
        "\n",
        "best_params = gb_grid_search.best_params_\n",
        "print(\"Best parameters:\", best_params)\n",
        "\n",
        "gb_best_mse = -gb_grid_search.best_score_\n",
        "gb_best_rmse = np.sqrt(gb_best_mse)\n",
        "\n",
        "print(\"Best GradientBoosting RMSE from CV:\", gb_best_rmse)"
      ]
    },
    {
      "cell_type": "markdown",
      "source": [
        "The best GradientBoosting model has the lowest RMSE from CV compared to Ridge Regression and KNN, therefore I chose this model to proceed."
      ],
      "metadata": {
        "id": "o8jrBuH90NCd"
      }
    },
    {
      "cell_type": "markdown",
      "source": [
        "### Train the best GB model with best hyperparameters on the entire training set"
      ],
      "metadata": {
        "id": "YK8YjGQ30jpC"
      }
    },
    {
      "cell_type": "code",
      "source": [
        "best_params = {\n",
        "    'learning_rate': 0.1,\n",
        "    'max_depth': 5,\n",
        "    'min_samples_split': 4,\n",
        "    'n_estimators': 300\n",
        "}\n",
        "\n",
        "gb_final = GradientBoostingRegressor(random_state=42, **best_params)\n",
        "\n",
        "gb_final.fit(X_train_pca, y_train)"
      ],
      "metadata": {
        "colab": {
          "base_uri": "https://localhost:8080/",
          "height": 92
        },
        "id": "6Nh_ayv9C7mV",
        "outputId": "30cbbafd-b070-4d3d-955d-b168c15162b1"
      },
      "execution_count": null,
      "outputs": [
        {
          "output_type": "execute_result",
          "data": {
            "text/plain": [
              "GradientBoostingRegressor(max_depth=5, min_samples_split=4, n_estimators=300,\n",
              "                          random_state=42)"
            ],
            "text/html": [
              "<style>#sk-container-id-1 {color: black;background-color: white;}#sk-container-id-1 pre{padding: 0;}#sk-container-id-1 div.sk-toggleable {background-color: white;}#sk-container-id-1 label.sk-toggleable__label {cursor: pointer;display: block;width: 100%;margin-bottom: 0;padding: 0.3em;box-sizing: border-box;text-align: center;}#sk-container-id-1 label.sk-toggleable__label-arrow:before {content: \"▸\";float: left;margin-right: 0.25em;color: #696969;}#sk-container-id-1 label.sk-toggleable__label-arrow:hover:before {color: black;}#sk-container-id-1 div.sk-estimator:hover label.sk-toggleable__label-arrow:before {color: black;}#sk-container-id-1 div.sk-toggleable__content {max-height: 0;max-width: 0;overflow: hidden;text-align: left;background-color: #f0f8ff;}#sk-container-id-1 div.sk-toggleable__content pre {margin: 0.2em;color: black;border-radius: 0.25em;background-color: #f0f8ff;}#sk-container-id-1 input.sk-toggleable__control:checked~div.sk-toggleable__content {max-height: 200px;max-width: 100%;overflow: auto;}#sk-container-id-1 input.sk-toggleable__control:checked~label.sk-toggleable__label-arrow:before {content: \"▾\";}#sk-container-id-1 div.sk-estimator input.sk-toggleable__control:checked~label.sk-toggleable__label {background-color: #d4ebff;}#sk-container-id-1 div.sk-label input.sk-toggleable__control:checked~label.sk-toggleable__label {background-color: #d4ebff;}#sk-container-id-1 input.sk-hidden--visually {border: 0;clip: rect(1px 1px 1px 1px);clip: rect(1px, 1px, 1px, 1px);height: 1px;margin: -1px;overflow: hidden;padding: 0;position: absolute;width: 1px;}#sk-container-id-1 div.sk-estimator {font-family: monospace;background-color: #f0f8ff;border: 1px dotted black;border-radius: 0.25em;box-sizing: border-box;margin-bottom: 0.5em;}#sk-container-id-1 div.sk-estimator:hover {background-color: #d4ebff;}#sk-container-id-1 div.sk-parallel-item::after {content: \"\";width: 100%;border-bottom: 1px solid gray;flex-grow: 1;}#sk-container-id-1 div.sk-label:hover label.sk-toggleable__label {background-color: #d4ebff;}#sk-container-id-1 div.sk-serial::before {content: \"\";position: absolute;border-left: 1px solid gray;box-sizing: border-box;top: 0;bottom: 0;left: 50%;z-index: 0;}#sk-container-id-1 div.sk-serial {display: flex;flex-direction: column;align-items: center;background-color: white;padding-right: 0.2em;padding-left: 0.2em;position: relative;}#sk-container-id-1 div.sk-item {position: relative;z-index: 1;}#sk-container-id-1 div.sk-parallel {display: flex;align-items: stretch;justify-content: center;background-color: white;position: relative;}#sk-container-id-1 div.sk-item::before, #sk-container-id-1 div.sk-parallel-item::before {content: \"\";position: absolute;border-left: 1px solid gray;box-sizing: border-box;top: 0;bottom: 0;left: 50%;z-index: -1;}#sk-container-id-1 div.sk-parallel-item {display: flex;flex-direction: column;z-index: 1;position: relative;background-color: white;}#sk-container-id-1 div.sk-parallel-item:first-child::after {align-self: flex-end;width: 50%;}#sk-container-id-1 div.sk-parallel-item:last-child::after {align-self: flex-start;width: 50%;}#sk-container-id-1 div.sk-parallel-item:only-child::after {width: 0;}#sk-container-id-1 div.sk-dashed-wrapped {border: 1px dashed gray;margin: 0 0.4em 0.5em 0.4em;box-sizing: border-box;padding-bottom: 0.4em;background-color: white;}#sk-container-id-1 div.sk-label label {font-family: monospace;font-weight: bold;display: inline-block;line-height: 1.2em;}#sk-container-id-1 div.sk-label-container {text-align: center;}#sk-container-id-1 div.sk-container {/* jupyter's `normalize.less` sets `[hidden] { display: none; }` but bootstrap.min.css set `[hidden] { display: none !important; }` so we also need the `!important` here to be able to override the default hidden behavior on the sphinx rendered scikit-learn.org. See: https://github.com/scikit-learn/scikit-learn/issues/21755 */display: inline-block !important;position: relative;}#sk-container-id-1 div.sk-text-repr-fallback {display: none;}</style><div id=\"sk-container-id-1\" class=\"sk-top-container\"><div class=\"sk-text-repr-fallback\"><pre>GradientBoostingRegressor(max_depth=5, min_samples_split=4, n_estimators=300,\n",
              "                          random_state=42)</pre><b>In a Jupyter environment, please rerun this cell to show the HTML representation or trust the notebook. <br />On GitHub, the HTML representation is unable to render, please try loading this page with nbviewer.org.</b></div><div class=\"sk-container\" hidden><div class=\"sk-item\"><div class=\"sk-estimator sk-toggleable\"><input class=\"sk-toggleable__control sk-hidden--visually\" id=\"sk-estimator-id-1\" type=\"checkbox\" checked><label for=\"sk-estimator-id-1\" class=\"sk-toggleable__label sk-toggleable__label-arrow\">GradientBoostingRegressor</label><div class=\"sk-toggleable__content\"><pre>GradientBoostingRegressor(max_depth=5, min_samples_split=4, n_estimators=300,\n",
              "                          random_state=42)</pre></div></div></div></div></div>"
            ]
          },
          "metadata": {},
          "execution_count": 93
        }
      ]
    },
    {
      "cell_type": "markdown",
      "source": [
        "## Model Evaluation"
      ],
      "metadata": {
        "id": "M2nzsse42xPH"
      }
    },
    {
      "cell_type": "code",
      "source": [
        "gb_y_pred = gb_final.predict(X_test_pca)\n",
        "\n",
        "# Calculate MSE and RMSE for the test set\n",
        "gb_test_mse = mean_squared_error(y_test, gb_y_pred)\n",
        "gb_test_rmse = np.sqrt(gb_test_mse)\n",
        "\n",
        "print(\"Gradient Boosting Regressor RMSE on Test Set:\", gb_test_rmse)"
      ],
      "metadata": {
        "colab": {
          "base_uri": "https://localhost:8080/"
        },
        "id": "zcws3CIeF1Sk",
        "outputId": "a5903d9e-0c71-45c8-e37d-9d4723cbf03d"
      },
      "execution_count": null,
      "outputs": [
        {
          "output_type": "stream",
          "name": "stdout",
          "text": [
            "Gradient Boosting Regressor RMSE on Test Set: 0.027994186869295595\n"
          ]
        }
      ]
    },
    {
      "cell_type": "markdown",
      "source": [
        "**The RMSE on test set is even smaller than the RMSE from CV, indicating that this model isn't overfitting and performs well on unseen data.**"
      ],
      "metadata": {
        "id": "yy-m4c9b3E8A"
      }
    },
    {
      "cell_type": "markdown",
      "source": [
        "## Prediction"
      ],
      "metadata": {
        "id": "WO8ZDHEJ3t2D"
      }
    },
    {
      "cell_type": "markdown",
      "source": [
        "### Process data from Holdout dataset"
      ],
      "metadata": {
        "id": "H4_H4tdk3yL4"
      }
    },
    {
      "cell_type": "code",
      "source": [
        "# Function used for this section\n",
        "def check_date_format(date_str):\n",
        "    \"\"\"\n",
        "    This function checks the values in the column to see whether they have the correct format.\n",
        "    \"\"\"\n",
        "    try:\n",
        "        # Attempt to parse the date string using the specified format\n",
        "        datetime.strptime(date_str, '%b-%y')\n",
        "        return True  # The format matches\n",
        "    except ValueError:\n",
        "        return False  # The format does not match"
      ],
      "metadata": {
        "id": "7MpMeeDY4luw"
      },
      "execution_count": null,
      "outputs": []
    },
    {
      "cell_type": "code",
      "execution_count": null,
      "metadata": {
        "colab": {
          "base_uri": "https://localhost:8080/"
        },
        "id": "Sk2noGFqF0Xu",
        "outputId": "2550ae53-aea9-4b7e-9b86-0031187c5af6"
      },
      "outputs": [
        {
          "output_type": "stream",
          "name": "stdout",
          "text": [
            "<class 'pandas.core.frame.DataFrame'>\n",
            "RangeIndex: 80000 entries, 0 to 79999\n",
            "Data columns (total 32 columns):\n",
            " #   Column  Non-Null Count  Dtype  \n",
            "---  ------  --------------  -----  \n",
            " 0   X1      0 non-null      float64\n",
            " 1   X2      80000 non-null  int64  \n",
            " 2   X3      80000 non-null  int64  \n",
            " 3   X4      80000 non-null  object \n",
            " 4   X5      80000 non-null  object \n",
            " 5   X6      80000 non-null  object \n",
            " 6   X7      80000 non-null  object \n",
            " 7   X8      80000 non-null  object \n",
            " 8   X9      80000 non-null  object \n",
            " 9   X10     75606 non-null  object \n",
            " 10  X11     75618 non-null  object \n",
            " 11  X12     80000 non-null  object \n",
            " 12  X13     80000 non-null  float64\n",
            " 13  X14     80000 non-null  object \n",
            " 14  X15     80000 non-null  object \n",
            " 15  X16     15 non-null     object \n",
            " 16  X17     80000 non-null  object \n",
            " 17  X18     80000 non-null  object \n",
            " 18  X19     80000 non-null  object \n",
            " 19  X20     80000 non-null  object \n",
            " 20  X21     80000 non-null  float64\n",
            " 21  X22     80000 non-null  int64  \n",
            " 22  X23     80000 non-null  object \n",
            " 23  X24     80000 non-null  int64  \n",
            " 24  X25     41296 non-null  float64\n",
            " 25  X26     13839 non-null  float64\n",
            " 26  X27     80000 non-null  int64  \n",
            " 27  X28     80000 non-null  int64  \n",
            " 28  X29     80000 non-null  int64  \n",
            " 29  X30     79970 non-null  object \n",
            " 30  X31     80000 non-null  int64  \n",
            " 31  X32     80000 non-null  object \n",
            "dtypes: float64(5), int64(8), object(19)\n",
            "memory usage: 19.5+ MB\n"
          ]
        }
      ],
      "source": [
        "df_holdout = pd.read_csv('Holdout for Testing.csv')\n",
        "df_holdout.info()"
      ]
    },
    {
      "cell_type": "code",
      "source": [
        "df_holdout['X16'] = df_holdout['X16'].replace(r'^\\s*$', np.nan, regex=True)\n",
        "df_holdout['Provided loan reasons'] = np.where(df_holdout['X16'].isna(), 0, 1)\n",
        "df_holdout.drop('X16', axis=1, inplace=True)"
      ],
      "metadata": {
        "id": "imAHj3FJZCx2"
      },
      "execution_count": null,
      "outputs": []
    },
    {
      "cell_type": "code",
      "source": [
        "X25_categories = ['Very recent', 'Some time ago', 'Long time ago', 'No delinquency']\n",
        "\n",
        "df_holdout['delinquency_recency'] = pd.qcut(df_holdout['X25'].dropna(),\n",
        "                                     q=3,\n",
        "                                     labels=X25_categories[:-1])\n",
        "\n",
        "df_holdout['delinquency_recency'] = pd.Categorical(df_holdout['delinquency_recency'], categories=X25_categories, ordered=True)\n",
        "\n",
        "df_holdout['delinquency_recency'].fillna('No delinquency', inplace=True)\n",
        "\n",
        "df_holdout.drop('X25', axis=1, inplace=True)"
      ],
      "metadata": {
        "id": "8hPJ8HpOaZPU"
      },
      "execution_count": null,
      "outputs": []
    },
    {
      "cell_type": "code",
      "source": [
        "public_record_categories = ['Very recent', 'Some time ago', 'Long time ago', 'No public record']\n",
        "\n",
        "df_holdout['public_record_recency'] = pd.qcut(df_holdout['X26'].dropna(),\n",
        "                                       q=3,\n",
        "                                       labels=public_record_categories[:-1])\n",
        "\n",
        "df_holdout['public_record_recency'] = pd.Categorical(df_holdout['public_record_recency'], categories=public_record_categories, ordered=True)\n",
        "\n",
        "df_holdout['public_record_recency'].fillna('No public record', inplace=True)\n",
        "\n",
        "df_holdout.drop('X26', axis=1, inplace=True)"
      ],
      "metadata": {
        "id": "fXA8BbweyGGQ"
      },
      "execution_count": null,
      "outputs": []
    },
    {
      "cell_type": "code",
      "source": [
        "df_holdout.replace(r'^\\s*$', np.nan, regex=True, inplace=True)\n",
        "df_holdout = df_holdout.drop(['X1', 'X3', 'X9', 'X15', 'X19'], axis=1)\n",
        "df_holdout.dropna(inplace=True)"
      ],
      "metadata": {
        "id": "zPC99YyfyNq9"
      },
      "execution_count": null,
      "outputs": []
    },
    {
      "cell_type": "code",
      "source": [
        "len(df_holdout)"
      ],
      "metadata": {
        "colab": {
          "base_uri": "https://localhost:8080/"
        },
        "id": "11pb6Z4e1ebe",
        "outputId": "8ab039b4-9d8e-4cc7-90cd-10ca9749acbf"
      },
      "execution_count": null,
      "outputs": [
        {
          "output_type": "execute_result",
          "data": {
            "text/plain": [
              "75543"
            ]
          },
          "metadata": {},
          "execution_count": 100
        }
      ]
    },
    {
      "cell_type": "code",
      "source": [
        "# Apply the check to each value in the column and count how many don't match the format\n",
        "count_mismatch = df_holdout['X23'].apply(lambda x: not check_date_format(x)).sum()\n",
        "\n",
        "print(f\"Number of values not following the '%b-%y' format: {count_mismatch}\")"
      ],
      "metadata": {
        "colab": {
          "base_uri": "https://localhost:8080/"
        },
        "id": "4iDuEqXP20Cs",
        "outputId": "f684e537-c73d-4fb2-c69f-bdecf8b6a2b8"
      },
      "execution_count": null,
      "outputs": [
        {
          "output_type": "stream",
          "name": "stdout",
          "text": [
            "Number of values not following the '%b-%y' format: 32823\n"
          ]
        }
      ]
    },
    {
      "cell_type": "markdown",
      "source": [
        "Since almost half of the values in X23(Date the borrower's earliest reported credit line was opened), lack the year, I cannot create a new column that represents days_since_earliest_credit_line_opened. Therefore I could only drop it."
      ],
      "metadata": {
        "id": "2spHD10g5K1I"
      }
    },
    {
      "cell_type": "code",
      "source": [
        "df_holdout.drop('X23', axis=1, inplace=True)"
      ],
      "metadata": {
        "id": "V-WKFlyqySQr"
      },
      "execution_count": null,
      "outputs": []
    },
    {
      "cell_type": "code",
      "source": [
        "df_holdout = df_holdout.drop(['X10'], axis=1)\n",
        "\n",
        "df_holdout['X11'] = df_holdout['X11'].apply(map_years_employed_to_category)\n",
        "\n",
        "X12_cate_counts = df_holdout['X12'].value_counts()\n",
        "\n",
        "less_frequent_categories = X12_cate_counts[X12_cate_counts < 80].index\n",
        "\n",
        "df_holdout = df_holdout[~df_holdout['X12'].isin(less_frequent_categories)]"
      ],
      "metadata": {
        "id": "II9Xp24wyVUw"
      },
      "execution_count": null,
      "outputs": []
    },
    {
      "cell_type": "code",
      "source": [
        "X17_cate_counts = df_holdout['X17'].value_counts()\n",
        "\n",
        "X17_less_frequent_categories = X17_cate_counts[X17_cate_counts < 200].index\n",
        "\n",
        "df_holdout = df_holdout[~df_holdout['X17'].isin(X17_less_frequent_categories)]\n",
        "\n",
        "df_holdout.drop('X18', axis=1, inplace=True)\n",
        "df_holdout.drop('X20', axis=1, inplace=True)\n",
        "\n",
        "df_holdout['X4'] = df_holdout['X4'].replace('[\\$,]', '', regex=True).astype(float)\n",
        "df_holdout['X5'] = df_holdout['X5'].replace('[\\$,]', '', regex=True).astype(float)\n",
        "df_holdout['X6'] = df_holdout['X6'].replace('[\\$,]', '', regex=True).astype(float)\n",
        "df_holdout['X30'] = df_holdout['X30'].str.rstrip('%').astype(float) / 100"
      ],
      "metadata": {
        "id": "1mJ_s4XLyXww"
      },
      "execution_count": null,
      "outputs": []
    },
    {
      "cell_type": "code",
      "source": [
        "pd.set_option('display.max_columns', None)\n",
        "df_holdout.head()"
      ],
      "metadata": {
        "colab": {
          "base_uri": "https://localhost:8080/",
          "height": 400
        },
        "id": "QoweeB580mTq",
        "outputId": "188418e6-42e8-41d2-ead1-800b4fe344d1"
      },
      "execution_count": null,
      "outputs": [
        {
          "output_type": "execute_result",
          "data": {
            "text/plain": [
              "         X2       X4       X5       X6          X7 X8                  X11  \\\n",
              "0  44409194   6000.0   6000.0   6000.0   36 months  C            10+ years   \n",
              "1  44017917  24000.0  24000.0  24000.0   36 months  A  5 years to 10 years   \n",
              "2  44259158  35000.0  35000.0  35000.0   36 months  C            10+ years   \n",
              "3  44429213  10000.0  10000.0  10000.0   60 months  D            10+ years   \n",
              "4  44299188  24000.0  24000.0  24000.0   60 months  B            10+ years   \n",
              "\n",
              "        X12       X13                       X14                 X17    X21  \\\n",
              "0  MORTGAGE   68000.0         VERIFIED - income  debt_consolidation  28.31   \n",
              "1      RENT  110480.0         VERIFIED - income  debt_consolidation  16.03   \n",
              "2  MORTGAGE   86000.0         VERIFIED - income  debt_consolidation  32.49   \n",
              "3      RENT   30000.0  VERIFIED - income source  debt_consolidation  32.96   \n",
              "4  MORTGAGE   82500.0         VERIFIED - income  debt_consolidation  31.03   \n",
              "\n",
              "   X22  X24  X27  X28    X29    X30  X31 X32  Provided loan reasons  \\\n",
              "0    0    1   18    0  19861  0.645   33   f                      0   \n",
              "1    0    1   12    0  17001  0.262   36   w                      0   \n",
              "2    0    0   16    0  25797  0.499   33   w                      0   \n",
              "3    0    1   13    1   9586  0.438   21   w                      0   \n",
              "4    0    0   27    0  31842  0.413   43   w                      0   \n",
              "\n",
              "  delinquency_recency public_record_recency  \n",
              "0       Some time ago      No public record  \n",
              "1      No delinquency      No public record  \n",
              "2      No delinquency      No public record  \n",
              "3      No delinquency         Long time ago  \n",
              "4       Long time ago      No public record  "
            ],
            "text/html": [
              "\n",
              "  <div id=\"df-6c071f06-0961-461f-98ae-9ad6a152f358\" class=\"colab-df-container\">\n",
              "    <div>\n",
              "<style scoped>\n",
              "    .dataframe tbody tr th:only-of-type {\n",
              "        vertical-align: middle;\n",
              "    }\n",
              "\n",
              "    .dataframe tbody tr th {\n",
              "        vertical-align: top;\n",
              "    }\n",
              "\n",
              "    .dataframe thead th {\n",
              "        text-align: right;\n",
              "    }\n",
              "</style>\n",
              "<table border=\"1\" class=\"dataframe\">\n",
              "  <thead>\n",
              "    <tr style=\"text-align: right;\">\n",
              "      <th></th>\n",
              "      <th>X2</th>\n",
              "      <th>X4</th>\n",
              "      <th>X5</th>\n",
              "      <th>X6</th>\n",
              "      <th>X7</th>\n",
              "      <th>X8</th>\n",
              "      <th>X11</th>\n",
              "      <th>X12</th>\n",
              "      <th>X13</th>\n",
              "      <th>X14</th>\n",
              "      <th>X17</th>\n",
              "      <th>X21</th>\n",
              "      <th>X22</th>\n",
              "      <th>X24</th>\n",
              "      <th>X27</th>\n",
              "      <th>X28</th>\n",
              "      <th>X29</th>\n",
              "      <th>X30</th>\n",
              "      <th>X31</th>\n",
              "      <th>X32</th>\n",
              "      <th>Provided loan reasons</th>\n",
              "      <th>delinquency_recency</th>\n",
              "      <th>public_record_recency</th>\n",
              "    </tr>\n",
              "  </thead>\n",
              "  <tbody>\n",
              "    <tr>\n",
              "      <th>0</th>\n",
              "      <td>44409194</td>\n",
              "      <td>6000.0</td>\n",
              "      <td>6000.0</td>\n",
              "      <td>6000.0</td>\n",
              "      <td>36 months</td>\n",
              "      <td>C</td>\n",
              "      <td>10+ years</td>\n",
              "      <td>MORTGAGE</td>\n",
              "      <td>68000.0</td>\n",
              "      <td>VERIFIED - income</td>\n",
              "      <td>debt_consolidation</td>\n",
              "      <td>28.31</td>\n",
              "      <td>0</td>\n",
              "      <td>1</td>\n",
              "      <td>18</td>\n",
              "      <td>0</td>\n",
              "      <td>19861</td>\n",
              "      <td>0.645</td>\n",
              "      <td>33</td>\n",
              "      <td>f</td>\n",
              "      <td>0</td>\n",
              "      <td>Some time ago</td>\n",
              "      <td>No public record</td>\n",
              "    </tr>\n",
              "    <tr>\n",
              "      <th>1</th>\n",
              "      <td>44017917</td>\n",
              "      <td>24000.0</td>\n",
              "      <td>24000.0</td>\n",
              "      <td>24000.0</td>\n",
              "      <td>36 months</td>\n",
              "      <td>A</td>\n",
              "      <td>5 years to 10 years</td>\n",
              "      <td>RENT</td>\n",
              "      <td>110480.0</td>\n",
              "      <td>VERIFIED - income</td>\n",
              "      <td>debt_consolidation</td>\n",
              "      <td>16.03</td>\n",
              "      <td>0</td>\n",
              "      <td>1</td>\n",
              "      <td>12</td>\n",
              "      <td>0</td>\n",
              "      <td>17001</td>\n",
              "      <td>0.262</td>\n",
              "      <td>36</td>\n",
              "      <td>w</td>\n",
              "      <td>0</td>\n",
              "      <td>No delinquency</td>\n",
              "      <td>No public record</td>\n",
              "    </tr>\n",
              "    <tr>\n",
              "      <th>2</th>\n",
              "      <td>44259158</td>\n",
              "      <td>35000.0</td>\n",
              "      <td>35000.0</td>\n",
              "      <td>35000.0</td>\n",
              "      <td>36 months</td>\n",
              "      <td>C</td>\n",
              "      <td>10+ years</td>\n",
              "      <td>MORTGAGE</td>\n",
              "      <td>86000.0</td>\n",
              "      <td>VERIFIED - income</td>\n",
              "      <td>debt_consolidation</td>\n",
              "      <td>32.49</td>\n",
              "      <td>0</td>\n",
              "      <td>0</td>\n",
              "      <td>16</td>\n",
              "      <td>0</td>\n",
              "      <td>25797</td>\n",
              "      <td>0.499</td>\n",
              "      <td>33</td>\n",
              "      <td>w</td>\n",
              "      <td>0</td>\n",
              "      <td>No delinquency</td>\n",
              "      <td>No public record</td>\n",
              "    </tr>\n",
              "    <tr>\n",
              "      <th>3</th>\n",
              "      <td>44429213</td>\n",
              "      <td>10000.0</td>\n",
              "      <td>10000.0</td>\n",
              "      <td>10000.0</td>\n",
              "      <td>60 months</td>\n",
              "      <td>D</td>\n",
              "      <td>10+ years</td>\n",
              "      <td>RENT</td>\n",
              "      <td>30000.0</td>\n",
              "      <td>VERIFIED - income source</td>\n",
              "      <td>debt_consolidation</td>\n",
              "      <td>32.96</td>\n",
              "      <td>0</td>\n",
              "      <td>1</td>\n",
              "      <td>13</td>\n",
              "      <td>1</td>\n",
              "      <td>9586</td>\n",
              "      <td>0.438</td>\n",
              "      <td>21</td>\n",
              "      <td>w</td>\n",
              "      <td>0</td>\n",
              "      <td>No delinquency</td>\n",
              "      <td>Long time ago</td>\n",
              "    </tr>\n",
              "    <tr>\n",
              "      <th>4</th>\n",
              "      <td>44299188</td>\n",
              "      <td>24000.0</td>\n",
              "      <td>24000.0</td>\n",
              "      <td>24000.0</td>\n",
              "      <td>60 months</td>\n",
              "      <td>B</td>\n",
              "      <td>10+ years</td>\n",
              "      <td>MORTGAGE</td>\n",
              "      <td>82500.0</td>\n",
              "      <td>VERIFIED - income</td>\n",
              "      <td>debt_consolidation</td>\n",
              "      <td>31.03</td>\n",
              "      <td>0</td>\n",
              "      <td>0</td>\n",
              "      <td>27</td>\n",
              "      <td>0</td>\n",
              "      <td>31842</td>\n",
              "      <td>0.413</td>\n",
              "      <td>43</td>\n",
              "      <td>w</td>\n",
              "      <td>0</td>\n",
              "      <td>Long time ago</td>\n",
              "      <td>No public record</td>\n",
              "    </tr>\n",
              "  </tbody>\n",
              "</table>\n",
              "</div>\n",
              "    <div class=\"colab-df-buttons\">\n",
              "\n",
              "  <div class=\"colab-df-container\">\n",
              "    <button class=\"colab-df-convert\" onclick=\"convertToInteractive('df-6c071f06-0961-461f-98ae-9ad6a152f358')\"\n",
              "            title=\"Convert this dataframe to an interactive table.\"\n",
              "            style=\"display:none;\">\n",
              "\n",
              "  <svg xmlns=\"http://www.w3.org/2000/svg\" height=\"24px\" viewBox=\"0 -960 960 960\">\n",
              "    <path d=\"M120-120v-720h720v720H120Zm60-500h600v-160H180v160Zm220 220h160v-160H400v160Zm0 220h160v-160H400v160ZM180-400h160v-160H180v160Zm440 0h160v-160H620v160ZM180-180h160v-160H180v160Zm440 0h160v-160H620v160Z\"/>\n",
              "  </svg>\n",
              "    </button>\n",
              "\n",
              "  <style>\n",
              "    .colab-df-container {\n",
              "      display:flex;\n",
              "      gap: 12px;\n",
              "    }\n",
              "\n",
              "    .colab-df-convert {\n",
              "      background-color: #E8F0FE;\n",
              "      border: none;\n",
              "      border-radius: 50%;\n",
              "      cursor: pointer;\n",
              "      display: none;\n",
              "      fill: #1967D2;\n",
              "      height: 32px;\n",
              "      padding: 0 0 0 0;\n",
              "      width: 32px;\n",
              "    }\n",
              "\n",
              "    .colab-df-convert:hover {\n",
              "      background-color: #E2EBFA;\n",
              "      box-shadow: 0px 1px 2px rgba(60, 64, 67, 0.3), 0px 1px 3px 1px rgba(60, 64, 67, 0.15);\n",
              "      fill: #174EA6;\n",
              "    }\n",
              "\n",
              "    .colab-df-buttons div {\n",
              "      margin-bottom: 4px;\n",
              "    }\n",
              "\n",
              "    [theme=dark] .colab-df-convert {\n",
              "      background-color: #3B4455;\n",
              "      fill: #D2E3FC;\n",
              "    }\n",
              "\n",
              "    [theme=dark] .colab-df-convert:hover {\n",
              "      background-color: #434B5C;\n",
              "      box-shadow: 0px 1px 3px 1px rgba(0, 0, 0, 0.15);\n",
              "      filter: drop-shadow(0px 1px 2px rgba(0, 0, 0, 0.3));\n",
              "      fill: #FFFFFF;\n",
              "    }\n",
              "  </style>\n",
              "\n",
              "    <script>\n",
              "      const buttonEl =\n",
              "        document.querySelector('#df-6c071f06-0961-461f-98ae-9ad6a152f358 button.colab-df-convert');\n",
              "      buttonEl.style.display =\n",
              "        google.colab.kernel.accessAllowed ? 'block' : 'none';\n",
              "\n",
              "      async function convertToInteractive(key) {\n",
              "        const element = document.querySelector('#df-6c071f06-0961-461f-98ae-9ad6a152f358');\n",
              "        const dataTable =\n",
              "          await google.colab.kernel.invokeFunction('convertToInteractive',\n",
              "                                                    [key], {});\n",
              "        if (!dataTable) return;\n",
              "\n",
              "        const docLinkHtml = 'Like what you see? Visit the ' +\n",
              "          '<a target=\"_blank\" href=https://colab.research.google.com/notebooks/data_table.ipynb>data table notebook</a>'\n",
              "          + ' to learn more about interactive tables.';\n",
              "        element.innerHTML = '';\n",
              "        dataTable['output_type'] = 'display_data';\n",
              "        await google.colab.output.renderOutput(dataTable, element);\n",
              "        const docLink = document.createElement('div');\n",
              "        docLink.innerHTML = docLinkHtml;\n",
              "        element.appendChild(docLink);\n",
              "      }\n",
              "    </script>\n",
              "  </div>\n",
              "\n",
              "\n",
              "<div id=\"df-da5b99a2-1480-4a91-94ac-3d7fa2d4de87\">\n",
              "  <button class=\"colab-df-quickchart\" onclick=\"quickchart('df-da5b99a2-1480-4a91-94ac-3d7fa2d4de87')\"\n",
              "            title=\"Suggest charts\"\n",
              "            style=\"display:none;\">\n",
              "\n",
              "<svg xmlns=\"http://www.w3.org/2000/svg\" height=\"24px\"viewBox=\"0 0 24 24\"\n",
              "     width=\"24px\">\n",
              "    <g>\n",
              "        <path d=\"M19 3H5c-1.1 0-2 .9-2 2v14c0 1.1.9 2 2 2h14c1.1 0 2-.9 2-2V5c0-1.1-.9-2-2-2zM9 17H7v-7h2v7zm4 0h-2V7h2v10zm4 0h-2v-4h2v4z\"/>\n",
              "    </g>\n",
              "</svg>\n",
              "  </button>\n",
              "\n",
              "<style>\n",
              "  .colab-df-quickchart {\n",
              "      --bg-color: #E8F0FE;\n",
              "      --fill-color: #1967D2;\n",
              "      --hover-bg-color: #E2EBFA;\n",
              "      --hover-fill-color: #174EA6;\n",
              "      --disabled-fill-color: #AAA;\n",
              "      --disabled-bg-color: #DDD;\n",
              "  }\n",
              "\n",
              "  [theme=dark] .colab-df-quickchart {\n",
              "      --bg-color: #3B4455;\n",
              "      --fill-color: #D2E3FC;\n",
              "      --hover-bg-color: #434B5C;\n",
              "      --hover-fill-color: #FFFFFF;\n",
              "      --disabled-bg-color: #3B4455;\n",
              "      --disabled-fill-color: #666;\n",
              "  }\n",
              "\n",
              "  .colab-df-quickchart {\n",
              "    background-color: var(--bg-color);\n",
              "    border: none;\n",
              "    border-radius: 50%;\n",
              "    cursor: pointer;\n",
              "    display: none;\n",
              "    fill: var(--fill-color);\n",
              "    height: 32px;\n",
              "    padding: 0;\n",
              "    width: 32px;\n",
              "  }\n",
              "\n",
              "  .colab-df-quickchart:hover {\n",
              "    background-color: var(--hover-bg-color);\n",
              "    box-shadow: 0 1px 2px rgba(60, 64, 67, 0.3), 0 1px 3px 1px rgba(60, 64, 67, 0.15);\n",
              "    fill: var(--button-hover-fill-color);\n",
              "  }\n",
              "\n",
              "  .colab-df-quickchart-complete:disabled,\n",
              "  .colab-df-quickchart-complete:disabled:hover {\n",
              "    background-color: var(--disabled-bg-color);\n",
              "    fill: var(--disabled-fill-color);\n",
              "    box-shadow: none;\n",
              "  }\n",
              "\n",
              "  .colab-df-spinner {\n",
              "    border: 2px solid var(--fill-color);\n",
              "    border-color: transparent;\n",
              "    border-bottom-color: var(--fill-color);\n",
              "    animation:\n",
              "      spin 1s steps(1) infinite;\n",
              "  }\n",
              "\n",
              "  @keyframes spin {\n",
              "    0% {\n",
              "      border-color: transparent;\n",
              "      border-bottom-color: var(--fill-color);\n",
              "      border-left-color: var(--fill-color);\n",
              "    }\n",
              "    20% {\n",
              "      border-color: transparent;\n",
              "      border-left-color: var(--fill-color);\n",
              "      border-top-color: var(--fill-color);\n",
              "    }\n",
              "    30% {\n",
              "      border-color: transparent;\n",
              "      border-left-color: var(--fill-color);\n",
              "      border-top-color: var(--fill-color);\n",
              "      border-right-color: var(--fill-color);\n",
              "    }\n",
              "    40% {\n",
              "      border-color: transparent;\n",
              "      border-right-color: var(--fill-color);\n",
              "      border-top-color: var(--fill-color);\n",
              "    }\n",
              "    60% {\n",
              "      border-color: transparent;\n",
              "      border-right-color: var(--fill-color);\n",
              "    }\n",
              "    80% {\n",
              "      border-color: transparent;\n",
              "      border-right-color: var(--fill-color);\n",
              "      border-bottom-color: var(--fill-color);\n",
              "    }\n",
              "    90% {\n",
              "      border-color: transparent;\n",
              "      border-bottom-color: var(--fill-color);\n",
              "    }\n",
              "  }\n",
              "</style>\n",
              "\n",
              "  <script>\n",
              "    async function quickchart(key) {\n",
              "      const quickchartButtonEl =\n",
              "        document.querySelector('#' + key + ' button');\n",
              "      quickchartButtonEl.disabled = true;  // To prevent multiple clicks.\n",
              "      quickchartButtonEl.classList.add('colab-df-spinner');\n",
              "      try {\n",
              "        const charts = await google.colab.kernel.invokeFunction(\n",
              "            'suggestCharts', [key], {});\n",
              "      } catch (error) {\n",
              "        console.error('Error during call to suggestCharts:', error);\n",
              "      }\n",
              "      quickchartButtonEl.classList.remove('colab-df-spinner');\n",
              "      quickchartButtonEl.classList.add('colab-df-quickchart-complete');\n",
              "    }\n",
              "    (() => {\n",
              "      let quickchartButtonEl =\n",
              "        document.querySelector('#df-da5b99a2-1480-4a91-94ac-3d7fa2d4de87 button');\n",
              "      quickchartButtonEl.style.display =\n",
              "        google.colab.kernel.accessAllowed ? 'block' : 'none';\n",
              "    })();\n",
              "  </script>\n",
              "</div>\n",
              "\n",
              "    </div>\n",
              "  </div>\n"
            ],
            "application/vnd.google.colaboratory.intrinsic+json": {
              "type": "dataframe",
              "variable_name": "df_holdout"
            }
          },
          "metadata": {},
          "execution_count": 106
        }
      ]
    },
    {
      "cell_type": "code",
      "source": [
        "categorical_cols = df_holdout.select_dtypes(include=['object', 'category']).columns\n",
        "numerical_cols = df_holdout.select_dtypes(include=['float64', 'int']).columns"
      ],
      "metadata": {
        "id": "-MTUcgxT6bpD"
      },
      "execution_count": null,
      "outputs": []
    },
    {
      "cell_type": "code",
      "source": [
        "numerical_cols = numerical_cols.drop('X2')"
      ],
      "metadata": {
        "id": "wfPmwNjUCfbj"
      },
      "execution_count": null,
      "outputs": []
    },
    {
      "cell_type": "code",
      "source": [
        "preprocessor = ColumnTransformer(\n",
        "    transformers=[\n",
        "        ('num', StandardScaler(), numerical_cols),\n",
        "        ('cat', OneHotEncoder(), categorical_cols)\n",
        "    ]\n",
        ")"
      ],
      "metadata": {
        "id": "Ggnc5wcGCdcm"
      },
      "execution_count": null,
      "outputs": []
    },
    {
      "cell_type": "code",
      "source": [
        "identifier = df_holdout['X2']\n",
        "\n",
        "X_holdout = df_holdout.drop('X2', axis=1)\n",
        "X_holdout_preprocessed = preprocessor.fit_transform(X_holdout)\n",
        "\n",
        "pca = PCA().fit(X_holdout_preprocessed)\n",
        "\n",
        "# Plot the cumulative sum of explained variance ratio\n",
        "plt.figure(figsize=(8, 5))\n",
        "plt.plot(np.cumsum(pca.explained_variance_ratio_), marker='o', linestyle='--')\n",
        "plt.xlabel('Number of Components')\n",
        "plt.ylabel('Cumulative Explained Variance')\n",
        "plt.title('Explained Variance by Number of Components')\n",
        "\n",
        "# Draw line at 90% of explained variance, for example\n",
        "plt.axhline(y=0.95, color='r', linestyle='-', label='95% Explained Variance')\n",
        "plt.legend()\n",
        "\n",
        "plt.show()"
      ],
      "metadata": {
        "colab": {
          "base_uri": "https://localhost:8080/",
          "height": 487
        },
        "id": "XA7bFp5n4_Qg",
        "outputId": "a73add5c-9e44-4965-d68c-4fdaed63720c"
      },
      "execution_count": null,
      "outputs": [
        {
          "output_type": "display_data",
          "data": {
            "text/plain": [
              "<Figure size 800x500 with 1 Axes>"
            ],
            "image/png": "[encoded data removed]"
          },
          "metadata": {}
        }
      ]
    },
    {
      "cell_type": "markdown",
      "source": [
        "Again, to be consistent, I chose 12 PCA components that explain 80%+ variance in the data."
      ],
      "metadata": {
        "id": "Ah6RkQZ35f2P"
      }
    },
    {
      "cell_type": "code",
      "source": [
        "pca = PCA(n_components=12)\n",
        "X_holdout_pca = pca.fit_transform(X_holdout_preprocessed)"
      ],
      "metadata": {
        "id": "1oCkzRMO6xxH"
      },
      "execution_count": null,
      "outputs": []
    },
    {
      "cell_type": "code",
      "source": [
        "gb_holdout_predictions = gb_final.predict(X_holdout_pca)\n",
        "\n",
        "results_df = pd.DataFrame(gb_holdout_predictions, columns=['Predicted Values'])\n",
        "results_df = pd.DataFrame({'Unique Loan ID': identifier, 'Predicted Value': gb_holdout_predictions})\n",
        "\n",
        "# Save the predictions to a CSV file\n",
        "results_df.to_csv('Loan Results from Yezi Liu.csv', index=False)"
      ],
      "metadata": {
        "id": "vCLQ7Q406xoq"
      },
      "execution_count": null,
      "outputs": []
    },
    {
      "cell_type": "markdown",
      "source": [
        "Brief Write-Up - compare the pros and cons of the modeling techniques I used:\n",
        "\n",
        "Ridge Regression provides coefficients for features to increase model interpretability and is computational efficient. But it assumes a linear relationship between predictors and the target variable and therefore is less flexible in modeling complex interactions between features. KNN is known for its simplicity and flexibility that captures complex nonlinear relationships without the need for a specific functional form. But it's computationally intensive, sensitive to data size, and subjective to the curse of dimensionality. Gradient Boosting can model complex nonlinear relationships, provide superior predictive accuracy, and is more robust to outliers. But it's much more computationally intensive than previous two models and is more complex to interpret than linear models due to its ensemble nature and the sequential corrections of residuals. In my case, Gradient Boosting's ability to model complex relationships and interactions between features make it perform slightly better than the other two models.\n"
      ],
      "metadata": {
        "id": "kbn7BpNUFiaN"
      }
    }
  ],
  "metadata": {
    "interpreter": {
      "hash": "68c46620193ef95b122b2567699a0018ca7cc4e872ffd9d39cfeb4c4c0222059"
    },
    "kernelspec": {
      "display_name": "Python 3",
      "name": "python3"
    },
    "language_info": {
      "codemirror_mode": {
        "name": "ipython",
        "version": 3
      },
      "file_extension": ".py",
      "mimetype": "text/x-python",
      "name": "python",
      "nbconvert_exporter": "python",
      "pygments_lexer": "ipython3",
      "version": "3.9.12"
    },
    "colab": {
      "provenance": [],
      "machine_shape": "hm",
      "gpuType": "T4"
    },
    "accelerator": "GPU"
  },
  "nbformat": 4,
  "nbformat_minor": 0
}